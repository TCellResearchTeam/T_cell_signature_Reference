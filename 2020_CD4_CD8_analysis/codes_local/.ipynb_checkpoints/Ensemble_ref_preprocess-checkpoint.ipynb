{
 "cells": [
  {
   "cell_type": "code",
   "execution_count": 1,
   "metadata": {},
   "outputs": [],
   "source": [
    "import os\n",
    "import pandas as pd\n",
    "import csv"
   ]
  },
  {
   "cell_type": "code",
   "execution_count": 25,
   "metadata": {},
   "outputs": [],
   "source": [
    "mm_gtf = '/home/pipkin/references/GRCm38.100/Mus_musculus.GRCm38.100.gtf'\n",
    "mm_csv = '/home/pipkin/references/GRCm38.100/Mus_musculus.GRCm38.100.csv'\n",
    "with open(mm_gtf, \"r\") as fin:\n",
    "    with open(mm_csv, \"w\") as fout:\n",
    "        rfin = csv.reader(fin, delimiter=\"\\t\")\n",
    "        wfout = csv.writer(fout, delimiter=\",\")\n",
    "        wfout.writerow([\"chr\", \"source\", \"feature\", \"start\", \"end\", \"score\", \n",
    "                        \"strand\", \"frame\", \"gene_id\", \"transcript_id\", \"gene_name\"])\n",
    "        for row in rfin:\n",
    "            if len(row) >= 9:\n",
    "                newrow = row[:8]\n",
    "                attr = row[8]\n",
    "                attr_list = attr.split(\"; \")\n",
    "                attr_dict = {}\n",
    "                for i in attr_list:\n",
    "                    i = i.replace('\"', \"\")\n",
    "                    i = i.replace(';', \"\")\n",
    "                    #print(i)\n",
    "                    name_i, content_i = i.split(\" \")[0:2]\n",
    "                    attr_dict[name_i] = content_i\n",
    "                for i in [\"gene_id\", \"transcript_id\", \"gene_name\"]:\n",
    "                    if i in attr_dict.keys():\n",
    "                        newrow.append(attr_dict[i])\n",
    "                    else:\n",
    "                        newrow.append(\"\")\n",
    "                wfout.writerow(newrow)"
   ]
  },
  {
   "cell_type": "code",
   "execution_count": 38,
   "metadata": {},
   "outputs": [
    {
     "name": "stderr",
     "output_type": "stream",
     "text": [
      "/home/pipkin/anaconda3/envs/sc_py3.8/lib/python3.8/site-packages/IPython/core/interactiveshell.py:3062: DtypeWarning: Columns (0) have mixed types.Specify dtype option on import or set low_memory=False.\n",
      "  has_raised = await self.run_ast_nodes(code_ast.body, cell_name,\n"
     ]
    }
   ],
   "source": [
    "mm_csv = '/home/pipkin/references/GRCm38.100/Mus_musculus.GRCm38.100.csv'\n",
    "mm_df = pd.read_csv(mm_csv)[['gene_id', 'transcript_id', 'gene_name']].drop_duplicates()\n",
    "mm_df.to_csv('/home/pipkin/references/GRCm38.100/Mus_musculus.GRCm38.100_geneID-transcriptID-geneName.csv')\n",
    "\n",
    "mm_df = mm_df[['gene_id', 'gene_name']].drop_duplicates()\n",
    "mm_df.to_csv('/home/pipkin/references/GRCm38.100/Mus_musculus.GRCm38.100_geneID-geneName.csv')"
   ]
  },
  {
   "cell_type": "code",
   "execution_count": 41,
   "metadata": {},
   "outputs": [
    {
     "data": {
      "text/html": [
       "<div>\n",
       "<style scoped>\n",
       "    .dataframe tbody tr th:only-of-type {\n",
       "        vertical-align: middle;\n",
       "    }\n",
       "\n",
       "    .dataframe tbody tr th {\n",
       "        vertical-align: top;\n",
       "    }\n",
       "\n",
       "    .dataframe thead th {\n",
       "        text-align: right;\n",
       "    }\n",
       "</style>\n",
       "<table border=\"1\" class=\"dataframe\">\n",
       "  <thead>\n",
       "    <tr style=\"text-align: right;\">\n",
       "      <th></th>\n",
       "      <th>gene_id</th>\n",
       "      <th>gene_name</th>\n",
       "    </tr>\n",
       "  </thead>\n",
       "  <tbody>\n",
       "    <tr>\n",
       "      <th>0</th>\n",
       "      <td>ENSMUSG00000102693</td>\n",
       "      <td>4933401J01Rik</td>\n",
       "    </tr>\n",
       "    <tr>\n",
       "      <th>3</th>\n",
       "      <td>ENSMUSG00000064842</td>\n",
       "      <td>Gm26206</td>\n",
       "    </tr>\n",
       "    <tr>\n",
       "      <th>6</th>\n",
       "      <td>ENSMUSG00000051951</td>\n",
       "      <td>Xkr4</td>\n",
       "    </tr>\n",
       "    <tr>\n",
       "      <th>24</th>\n",
       "      <td>ENSMUSG00000102851</td>\n",
       "      <td>Gm18956</td>\n",
       "    </tr>\n",
       "    <tr>\n",
       "      <th>27</th>\n",
       "      <td>ENSMUSG00000103377</td>\n",
       "      <td>Gm37180</td>\n",
       "    </tr>\n",
       "  </tbody>\n",
       "</table>\n",
       "</div>"
      ],
      "text/plain": [
       "               gene_id      gene_name\n",
       "0   ENSMUSG00000102693  4933401J01Rik\n",
       "3   ENSMUSG00000064842        Gm26206\n",
       "6   ENSMUSG00000051951           Xkr4\n",
       "24  ENSMUSG00000102851        Gm18956\n",
       "27  ENSMUSG00000103377        Gm37180"
      ]
     },
     "execution_count": 41,
     "metadata": {},
     "output_type": "execute_result"
    }
   ],
   "source": [
    "mm_df.head()"
   ]
  },
  {
   "cell_type": "code",
   "execution_count": 26,
   "metadata": {},
   "outputs": [],
   "source": [
    "hs_gtf = '/home/pipkin/references/GRCh38.100/Homo_sapiens.GRCh38.100.gtf'\n",
    "hs_csv = '/home/pipkin/references/GRCh38.100/Homo_sapiens.GRCh38.100.csv'\n",
    "with open(hs_gtf, \"r\") as fin:\n",
    "    with open(hs_csv, \"w\") as fout:\n",
    "        rfin = csv.reader(fin, delimiter=\"\\t\")\n",
    "        wfout = csv.writer(fout, delimiter=\",\")\n",
    "        wfout.writerow([\"chr\", \"source\", \"feature\", \"start\", \"end\", \"score\", \n",
    "                        \"strand\", \"frame\", \"gene_id\", \"transcript_id\", \"gene_name\"])\n",
    "        for row in rfin:\n",
    "            if len(row) >= 9:\n",
    "                newrow = row[:8]\n",
    "                attr = row[8]\n",
    "                attr_list = attr.split(\"; \")\n",
    "                attr_dict = {}\n",
    "                for i in attr_list:\n",
    "                    i = i.replace('\"', \"\")\n",
    "                    i = i.replace(';', \"\")\n",
    "                    #print(i)\n",
    "                    name_i, content_i = i.split(\" \")[0:2]\n",
    "                    attr_dict[name_i] = content_i\n",
    "                for i in [\"gene_id\", \"transcript_id\", \"gene_name\"]:\n",
    "                    if i in attr_dict.keys():\n",
    "                        newrow.append(attr_dict[i])\n",
    "                    else:\n",
    "                        newrow.append(\"\")\n",
    "                wfout.writerow(newrow)"
   ]
  },
  {
   "cell_type": "code",
   "execution_count": 39,
   "metadata": {},
   "outputs": [],
   "source": [
    "hs_csv = '/home/pipkin/references/GRCh38.100/Homo_sapiens.GRCh38.100.csv'\n",
    "hs_df = pd.read_csv(hs_csv)[['gene_id', 'transcript_id', 'gene_name']].drop_duplicates()\n",
    "hs_df.to_csv('/home/pipkin/references/GRCh38.100/Homo_sapiens.GRCh38.100_geneID-transcriptID-geneName.csv')\n",
    "\n",
    "hs_df = hs_df[['gene_id', 'gene_name']].drop_duplicates()\n",
    "hs_df.to_csv('/home/pipkin/references/GRCh38.100/Homo_sapiens.GRCh38.100_geneID-geneName.csv')"
   ]
  },
  {
   "cell_type": "code",
   "execution_count": 40,
   "metadata": {},
   "outputs": [
    {
     "data": {
      "text/html": [
       "<div>\n",
       "<style scoped>\n",
       "    .dataframe tbody tr th:only-of-type {\n",
       "        vertical-align: middle;\n",
       "    }\n",
       "\n",
       "    .dataframe tbody tr th {\n",
       "        vertical-align: top;\n",
       "    }\n",
       "\n",
       "    .dataframe thead th {\n",
       "        text-align: right;\n",
       "    }\n",
       "</style>\n",
       "<table border=\"1\" class=\"dataframe\">\n",
       "  <thead>\n",
       "    <tr style=\"text-align: right;\">\n",
       "      <th></th>\n",
       "      <th>gene_id</th>\n",
       "      <th>gene_name</th>\n",
       "    </tr>\n",
       "  </thead>\n",
       "  <tbody>\n",
       "    <tr>\n",
       "      <th>0</th>\n",
       "      <td>ENSG00000223972</td>\n",
       "      <td>DDX11L1</td>\n",
       "    </tr>\n",
       "    <tr>\n",
       "      <th>12</th>\n",
       "      <td>ENSG00000227232</td>\n",
       "      <td>WASH7P</td>\n",
       "    </tr>\n",
       "    <tr>\n",
       "      <th>25</th>\n",
       "      <td>ENSG00000278267</td>\n",
       "      <td>MIR6859-1</td>\n",
       "    </tr>\n",
       "    <tr>\n",
       "      <th>28</th>\n",
       "      <td>ENSG00000243485</td>\n",
       "      <td>MIR1302-2HG</td>\n",
       "    </tr>\n",
       "    <tr>\n",
       "      <th>36</th>\n",
       "      <td>ENSG00000284332</td>\n",
       "      <td>MIR1302-2</td>\n",
       "    </tr>\n",
       "  </tbody>\n",
       "</table>\n",
       "</div>"
      ],
      "text/plain": [
       "            gene_id    gene_name\n",
       "0   ENSG00000223972      DDX11L1\n",
       "12  ENSG00000227232       WASH7P\n",
       "25  ENSG00000278267    MIR6859-1\n",
       "28  ENSG00000243485  MIR1302-2HG\n",
       "36  ENSG00000284332    MIR1302-2"
      ]
     },
     "execution_count": 40,
     "metadata": {},
     "output_type": "execute_result"
    }
   ],
   "source": [
    "hs_df.head()"
   ]
  },
  {
   "cell_type": "code",
   "execution_count": null,
   "metadata": {},
   "outputs": [],
   "source": []
  }
 ],
 "metadata": {
  "kernelspec": {
   "display_name": "Python 3",
   "language": "python",
   "name": "python3"
  },
  "language_info": {
   "codemirror_mode": {
    "name": "ipython",
    "version": 3
   },
   "file_extension": ".py",
   "mimetype": "text/x-python",
   "name": "python",
   "nbconvert_exporter": "python",
   "pygments_lexer": "ipython3",
   "version": "3.8.3"
  }
 },
 "nbformat": 4,
 "nbformat_minor": 4
}
