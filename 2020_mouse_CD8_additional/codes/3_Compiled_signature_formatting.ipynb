{
 "cells": [
  {
   "cell_type": "code",
   "execution_count": 2,
   "metadata": {},
   "outputs": [],
   "source": [
    "import numpy as np\n",
    "import pandas as pd\n",
    "import os\n",
    "import glob"
   ]
  },
  {
   "cell_type": "code",
   "execution_count": 4,
   "metadata": {},
   "outputs": [],
   "source": [
    "code_dir = os.getcwd()\n",
    "base_dir = code_dir.replace(\"/codes\",\"\")\n",
    "base_dir = base_dir.replace(\"/2020_mouse_CD8_additional\", \"\")"
   ]
  },
  {
   "cell_type": "code",
   "execution_count": 6,
   "metadata": {},
   "outputs": [],
   "source": [
    "wk_dir = base_dir + '/X_Formatted_csv/202009_CD8'\n",
    "os.chdir(wk_dir)"
   ]
  },
  {
   "cell_type": "code",
   "execution_count": 40,
   "metadata": {},
   "outputs": [],
   "source": [
    "###----- 2016_SCIENCE_Mackay\n",
    "input_dir = base_dir + '/2020_mouse_CD8_additional/2_DEseq_out'\n",
    "\n",
    "tcm_tem = input_dir + '/2016_SCIENCE_Mackay--Tcm_vs_Tem.csv'\n",
    "tcm_trm = input_dir + '/2016_SCIENCE_Mackay--Tcm_vs_Trm.csv'\n",
    "tem_trm = input_dir + '/2016_SCIENCE_Mackay--Tem_vs_Trm.csv'\n",
    "tcm_naive = input_dir + '/2016_SCIENCE_Mackay--Tcm_vs_Naive.csv'\n",
    "tem_naive = input_dir + '/2016_SCIENCE_Mackay--Tem_vs_Naive.csv'\n",
    "trm_naive = input_dir + '/2016_SCIENCE_Mackay--Trm_vs_Naive.csv'\n",
    "\n",
    "tcm_tem_df = pd.read_csv(tcm_tem)\n",
    "tcm_trm_df = pd.read_csv(tcm_trm)\n",
    "tem_trm_df = pd.read_csv(tem_trm)\n",
    "tcm_nav_df = pd.read_csv(tcm_naive)\n",
    "tem_nav_df = pd.read_csv(tem_naive)\n",
    "trm_nav_df = pd.read_csv(trm_naive)\n",
    "\n",
    "tcm_tem_df = tcm_tem_df[tcm_tem_df['pvalue'] <= 0.05]\n",
    "tcm_tem_up = tcm_tem_df[tcm_tem_df['log2FoldChange'] > 0]['Symbol'].tolist()\n",
    "tcm_tem_dn = tcm_tem_df[tcm_tem_df['log2FoldChange'] < 0]['Symbol'].tolist()\n",
    "\n",
    "tcm_trm_df = tcm_trm_df[tcm_trm_df['pvalue'] <= 0.05]\n",
    "tcm_trm_up = tcm_trm_df[tcm_trm_df['log2FoldChange'] > 0]['Symbol'].tolist()\n",
    "tcm_trm_dn = tcm_trm_df[tcm_trm_df['log2FoldChange'] < 0]['Symbol'].tolist()\n",
    "\n",
    "tem_trm_df = tem_trm_df[tem_trm_df['pvalue'] <= 0.05]\n",
    "tem_trm_up = tem_trm_df[tem_trm_df['log2FoldChange'] > 0]['Symbol'].tolist()\n",
    "tem_trm_dn = tem_trm_df[tem_trm_df['log2FoldChange'] < 0]['Symbol'].tolist()\n",
    "\n",
    "tcm_nav_df = tcm_nav_df[tcm_nav_df['pvalue'] <= 0.05]\n",
    "tcm_nav_up = tcm_nav_df[tcm_nav_df['log2FoldChange'] > 0]['Symbol'].tolist()\n",
    "tcm_nav_dn = tcm_nav_df[tcm_nav_df['log2FoldChange'] < 0]['Symbol'].tolist()\n",
    "\n",
    "tem_nav_df = tem_nav_df[tem_nav_df['pvalue'] <= 0.05]\n",
    "tem_nav_up = tem_nav_df[tem_nav_df['log2FoldChange'] > 0]['Symbol'].tolist()\n",
    "tem_nav_dn = tem_nav_df[tem_nav_df['log2FoldChange'] < 0]['Symbol'].tolist()\n",
    "\n",
    "trm_nav_df = trm_nav_df[trm_nav_df['pvalue'] <= 0.05]\n",
    "trm_nav_up = trm_nav_df[trm_nav_df['log2FoldChange'] > 0]['Symbol'].tolist()\n",
    "trm_nav_dn = trm_nav_df[trm_nav_df['log2FoldChange'] < 0]['Symbol'].tolist()\n",
    "\n",
    "tcm_list = list(set(tcm_tem_up) & set(tcm_trm_up))\n",
    "tem_list = list(set(tcm_tem_dn) & set(tem_trm_up))\n",
    "trm_list = list(set(tcm_trm_dn) & set(tem_trm_dn))"
   ]
  },
  {
   "cell_type": "code",
   "execution_count": 43,
   "metadata": {},
   "outputs": [],
   "source": [
    "gs_name = [\"TCM_vs_TEM-TRM\" for x in tcm_list] \\\n",
    "        + [\"TEM_vs_TCM-TRM\" for x in tem_list] \\\n",
    "        + [\"TRM_vs_TCM-TEM\" for x in trm_list]\n",
    "\n",
    "gene_symbol = tcm_list + tem_list + trm_list\n",
    "\n",
    "gs_df = pd.DataFrame({\"gs_name\": gs_name, \"gene_symbol\": gene_symbol})\n",
    "gs_df.to_csv(\"2016_SCIENCE_Mackay_signatures_mouse.csv\", index=False)"
   ]
  },
  {
   "cell_type": "code",
   "execution_count": null,
   "metadata": {},
   "outputs": [],
   "source": []
  }
 ],
 "metadata": {
  "kernelspec": {
   "display_name": "Python 3",
   "language": "python",
   "name": "python3"
  },
  "language_info": {
   "codemirror_mode": {
    "name": "ipython",
    "version": 3
   },
   "file_extension": ".py",
   "mimetype": "text/x-python",
   "name": "python",
   "nbconvert_exporter": "python",
   "pygments_lexer": "ipython3",
   "version": "3.8.3"
  }
 },
 "nbformat": 4,
 "nbformat_minor": 4
}
