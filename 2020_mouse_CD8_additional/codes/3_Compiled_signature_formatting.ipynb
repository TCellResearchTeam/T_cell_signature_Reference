{
 "cells": [
  {
   "cell_type": "code",
   "execution_count": 2,
   "metadata": {},
   "outputs": [],
   "source": [
    "import numpy as np\n",
    "import pandas as pd\n",
    "import os\n",
    "import glob"
   ]
  },
  {
   "cell_type": "code",
   "execution_count": 3,
   "metadata": {},
   "outputs": [],
   "source": [
    "code_dir = os.getcwd()\n",
    "base_dir = code_dir.replace(\"/codes\",\"\")\n",
    "base_dir = base_dir.replace(\"/2020_mouse_CD8_additional\", \"\")"
   ]
  },
  {
   "cell_type": "code",
   "execution_count": 8,
   "metadata": {},
   "outputs": [],
   "source": [
    "wk_dir = base_dir + '/X_Formatted_csv/202009_CD8'\n",
    "input_dir = base_dir + '/2020_mouse_CD8_additional/2_DEseq_out'\n",
    "os.chdir(wk_dir)"
   ]
  },
  {
   "cell_type": "code",
   "execution_count": 40,
   "metadata": {},
   "outputs": [],
   "source": [
    "###----- 2016_SCIENCE_Mackay\n",
    "tcm_tem = input_dir + '/2016_SCIENCE_Mackay--Tcm_vs_Tem.csv'\n",
    "tcm_trm = input_dir + '/2016_SCIENCE_Mackay--Tcm_vs_Trm.csv'\n",
    "tem_trm = input_dir + '/2016_SCIENCE_Mackay--Tem_vs_Trm.csv'\n",
    "tcm_naive = input_dir + '/2016_SCIENCE_Mackay--Tcm_vs_Naive.csv'\n",
    "tem_naive = input_dir + '/2016_SCIENCE_Mackay--Tem_vs_Naive.csv'\n",
    "trm_naive = input_dir + '/2016_SCIENCE_Mackay--Trm_vs_Naive.csv'\n",
    "\n",
    "tcm_tem_df = pd.read_csv(tcm_tem)\n",
    "tcm_trm_df = pd.read_csv(tcm_trm)\n",
    "tem_trm_df = pd.read_csv(tem_trm)\n",
    "tcm_nav_df = pd.read_csv(tcm_naive)\n",
    "tem_nav_df = pd.read_csv(tem_naive)\n",
    "trm_nav_df = pd.read_csv(trm_naive)\n",
    "\n",
    "tcm_tem_df = tcm_tem_df[tcm_tem_df['pvalue'] <= 0.05]\n",
    "tcm_tem_up = tcm_tem_df[tcm_tem_df['log2FoldChange'] > 0]['Symbol'].tolist()\n",
    "tcm_tem_dn = tcm_tem_df[tcm_tem_df['log2FoldChange'] < 0]['Symbol'].tolist()\n",
    "\n",
    "tcm_trm_df = tcm_trm_df[tcm_trm_df['pvalue'] <= 0.05]\n",
    "tcm_trm_up = tcm_trm_df[tcm_trm_df['log2FoldChange'] > 0]['Symbol'].tolist()\n",
    "tcm_trm_dn = tcm_trm_df[tcm_trm_df['log2FoldChange'] < 0]['Symbol'].tolist()\n",
    "\n",
    "tem_trm_df = tem_trm_df[tem_trm_df['pvalue'] <= 0.05]\n",
    "tem_trm_up = tem_trm_df[tem_trm_df['log2FoldChange'] > 0]['Symbol'].tolist()\n",
    "tem_trm_dn = tem_trm_df[tem_trm_df['log2FoldChange'] < 0]['Symbol'].tolist()\n",
    "\n",
    "tcm_nav_df = tcm_nav_df[tcm_nav_df['pvalue'] <= 0.05]\n",
    "tcm_nav_up = tcm_nav_df[tcm_nav_df['log2FoldChange'] > 0]['Symbol'].tolist()\n",
    "tcm_nav_dn = tcm_nav_df[tcm_nav_df['log2FoldChange'] < 0]['Symbol'].tolist()\n",
    "\n",
    "tem_nav_df = tem_nav_df[tem_nav_df['pvalue'] <= 0.05]\n",
    "tem_nav_up = tem_nav_df[tem_nav_df['log2FoldChange'] > 0]['Symbol'].tolist()\n",
    "tem_nav_dn = tem_nav_df[tem_nav_df['log2FoldChange'] < 0]['Symbol'].tolist()\n",
    "\n",
    "trm_nav_df = trm_nav_df[trm_nav_df['pvalue'] <= 0.05]\n",
    "trm_nav_up = trm_nav_df[trm_nav_df['log2FoldChange'] > 0]['Symbol'].tolist()\n",
    "trm_nav_dn = trm_nav_df[trm_nav_df['log2FoldChange'] < 0]['Symbol'].tolist()\n",
    "\n",
    "tcm_list = list(set(tcm_tem_up) & set(tcm_trm_up))\n",
    "tem_list = list(set(tcm_tem_dn) & set(tem_trm_up))\n",
    "trm_list = list(set(tcm_trm_dn) & set(tem_trm_dn))\n",
    "\n",
    "gs_name = [\"TCM_vs_TEM-TRM\" for x in tcm_list] \\\n",
    "        + [\"TEM_vs_TCM-TRM\" for x in tem_list] \\\n",
    "        + [\"TRM_vs_TCM-TEM\" for x in trm_list]\n",
    "\n",
    "gene_symbol = tcm_list + tem_list + trm_list\n",
    "\n",
    "gs_df = pd.DataFrame({\"gs_name\": gs_name, \"gene_symbol\": gene_symbol})\n",
    "gs_df.to_csv(\"2016_SCIENCE_Mackay_signatures_mouse.csv\", index=False)"
   ]
  },
  {
   "cell_type": "code",
   "execution_count": 49,
   "metadata": {},
   "outputs": [],
   "source": [
    "###----- 2018_IMMUNITY_Wang\n",
    "D5EE_vs_Naive = input_dir + \"/2018_IMMUNITY_Wang--D5EE_vs_Naive_gn.csv\"\n",
    "D5TE_vs_Naive = input_dir + \"/2018_IMMUNITY_Wang--D5TE_vs_Naive_gn.csv\"\n",
    "D8EE_vs_D5EE = input_dir + \"/2018_IMMUNITY_Wang--D8EE_vs_D5EE_gn.csv\"\n",
    "D8EE_vs_D5TE = input_dir + \"/2018_IMMUNITY_Wang--D8EE_vs_D5TE_gn.csv\"\n",
    "D8MP_vs_D5EE = input_dir + \"/2018_IMMUNITY_Wang--D8MP_vs_D5EE_gn.csv\"\n",
    "D8MP_vs_D5TE = input_dir + \"/2018_IMMUNITY_Wang--D8MP_vs_D5TE_gn.csv\"\n",
    "D8TE_vs_D5EE = input_dir + \"/2018_IMMUNITY_Wang--D8TE_vs_D5EE_gn.csv\"\n",
    "D8TE_vs_D5TE = input_dir + \"/2018_IMMUNITY_Wang--D8TE_vs_D5TE_gn.csv\"\n",
    "\n",
    "D5EE_vs_Naive_df = pd.read_csv( D5EE_vs_Naive )\n",
    "D5TE_vs_Naive_df = pd.read_csv( D5TE_vs_Naive )\n",
    "D8EE_vs_D5EE_df = pd.read_csv( D8EE_vs_D5EE )\n",
    "D8EE_vs_D5TE_df = pd.read_csv( D8EE_vs_D5TE )\n",
    "D8MP_vs_D5EE_df = pd.read_csv( D8MP_vs_D5EE )\n",
    "D8MP_vs_D5TE_df = pd.read_csv( D8MP_vs_D5TE )\n",
    "D8TE_vs_D5EE_df = pd.read_csv( D8TE_vs_D5EE )\n",
    "D8TE_vs_D5TE_df = pd.read_csv( D8TE_vs_D5TE )\n",
    "\n",
    "D5EE_vs_Naive_df = D5EE_vs_Naive_df[D5EE_vs_Naive_df[\"padj\"] <= 0.01]\n",
    "D5TE_vs_Naive_df = D5TE_vs_Naive_df[D5TE_vs_Naive_df[\"padj\"] <= 0.01]\n",
    "D8EE_vs_D5EE_df = D8EE_vs_D5EE_df[D8EE_vs_D5EE_df[\"padj\"] <= 0.01]\n",
    "D8EE_vs_D5TE_df = D8EE_vs_D5TE_df[D8EE_vs_D5TE_df[\"padj\"] <= 0.01]\n",
    "D8MP_vs_D5EE_df = D8MP_vs_D5EE_df[D8MP_vs_D5EE_df[\"padj\"] <= 0.01]\n",
    "D8MP_vs_D5TE_df = D8MP_vs_D5TE_df[D8MP_vs_D5TE_df[\"padj\"] <= 0.01]\n",
    "D8TE_vs_D5EE_df = D8TE_vs_D5EE_df[D8TE_vs_D5EE_df[\"padj\"] <= 0.01]\n",
    "D8TE_vs_D5TE_df = D8TE_vs_D5TE_df[D8TE_vs_D5TE_df[\"padj\"] <= 0.01]\n",
    "\n",
    "D5EE_vs_Naive_up = D5EE_vs_Naive_df[D5EE_vs_Naive_df[\"log2FoldChange\"] >= 5][\"gene_name\"].tolist()\n",
    "D5TE_vs_Naive_up = D5TE_vs_Naive_df[D5TE_vs_Naive_df[\"log2FoldChange\"] >= 5][\"gene_name\"].tolist()\n",
    "D8EE_vs_D5EE_up = D8EE_vs_D5EE_df[D8EE_vs_D5EE_df[\"log2FoldChange\"] >= 3][\"gene_name\"].tolist()\n",
    "D8EE_vs_D5TE_up = D8EE_vs_D5TE_df[D8EE_vs_D5TE_df[\"log2FoldChange\"] >= 3][\"gene_name\"].tolist()\n",
    "D8MP_vs_D5EE_up = D8MP_vs_D5EE_df[D8MP_vs_D5EE_df[\"log2FoldChange\"] >= 3][\"gene_name\"].tolist()\n",
    "D8MP_vs_D5TE_up = D8MP_vs_D5TE_df[D8MP_vs_D5TE_df[\"log2FoldChange\"] >= 3][\"gene_name\"].tolist()\n",
    "D8TE_vs_D5EE_up = D8TE_vs_D5EE_df[D8TE_vs_D5EE_df[\"log2FoldChange\"] >= 3][\"gene_name\"].tolist()\n",
    "D8TE_vs_D5TE_up = D8TE_vs_D5TE_df[D8TE_vs_D5TE_df[\"log2FoldChange\"] >= 3][\"gene_name\"].tolist()\n",
    "\n",
    "D5EE_vs_Naive_dn = D5EE_vs_Naive_df[D5EE_vs_Naive_df[\"log2FoldChange\"] <= -5][\"gene_name\"].tolist()\n",
    "D5TE_vs_Naive_dn = D5TE_vs_Naive_df[D5TE_vs_Naive_df[\"log2FoldChange\"] <= -5][\"gene_name\"].tolist()\n",
    "D8EE_vs_D5EE_dn = D8EE_vs_D5EE_df[D8EE_vs_D5EE_df[\"log2FoldChange\"] <= -3][\"gene_name\"].tolist()\n",
    "D8EE_vs_D5TE_dn = D8EE_vs_D5TE_df[D8EE_vs_D5TE_df[\"log2FoldChange\"] <= -3][\"gene_name\"].tolist()\n",
    "D8MP_vs_D5EE_dn = D8MP_vs_D5EE_df[D8MP_vs_D5EE_df[\"log2FoldChange\"] <= -3][\"gene_name\"].tolist()\n",
    "D8MP_vs_D5TE_dn = D8MP_vs_D5TE_df[D8MP_vs_D5TE_df[\"log2FoldChange\"] <= -3][\"gene_name\"].tolist()\n",
    "D8TE_vs_D5EE_dn = D8TE_vs_D5EE_df[D8TE_vs_D5EE_df[\"log2FoldChange\"] <= -3][\"gene_name\"].tolist()\n",
    "D8TE_vs_D5TE_dn = D8TE_vs_D5TE_df[D8TE_vs_D5TE_df[\"log2FoldChange\"] <= -3][\"gene_name\"].tolist()"
   ]
  },
  {
   "cell_type": "code",
   "execution_count": 50,
   "metadata": {},
   "outputs": [
    {
     "name": "stdout",
     "output_type": "stream",
     "text": [
      "772\n",
      "617\n",
      "692\n",
      "349\n",
      "261\n",
      "243\n",
      "308\n",
      "230\n"
     ]
    }
   ],
   "source": [
    "print(len(D5EE_vs_Naive_up))\n",
    "print(len(D5TE_vs_Naive_up))\n",
    "print(len(D8EE_vs_D5EE_up))\n",
    "print(len(D8EE_vs_D5TE_up))\n",
    "print(len(D8MP_vs_D5EE_up))\n",
    "print(len(D8MP_vs_D5TE_up))\n",
    "print(len(D8TE_vs_D5EE_up))\n",
    "print(len(D8TE_vs_D5TE_up))"
   ]
  },
  {
   "cell_type": "code",
   "execution_count": 51,
   "metadata": {},
   "outputs": [
    {
     "name": "stdout",
     "output_type": "stream",
     "text": [
      "770\n",
      "583\n",
      "158\n",
      "113\n",
      "373\n",
      "276\n",
      "343\n",
      "192\n"
     ]
    }
   ],
   "source": [
    "print(len(D5EE_vs_Naive_dn))\n",
    "print(len(D5TE_vs_Naive_dn))\n",
    "print(len(D8EE_vs_D5EE_dn))\n",
    "print(len(D8EE_vs_D5TE_dn))\n",
    "print(len(D8MP_vs_D5EE_dn))\n",
    "print(len(D8MP_vs_D5TE_dn))\n",
    "print(len(D8TE_vs_D5EE_dn))\n",
    "print(len(D8TE_vs_D5TE_dn))"
   ]
  },
  {
   "cell_type": "code",
   "execution_count": 53,
   "metadata": {},
   "outputs": [],
   "source": [
    "gs_name = [\"D5KLRG1lo_vs_Naive_up\" for x in D5EE_vs_Naive_up] \\\n",
    "+ [\"D5KLRG1hi_vs_Naive_up\" for x in D5TE_vs_Naive_up] \\\n",
    "+ [\"D8EE_vs_D5KLRG1lo_up\" for x in D8EE_vs_D5EE_up] \\\n",
    "+ [\"D8EE_vs_D5KLRG1hi_up\" for x in D8EE_vs_D5TE_up] \\\n",
    "+ [\"D8MP_vs_D5KLRG1lo_up\" for x in D8MP_vs_D5EE_up] \\\n",
    "+ [\"D8MP_vs_D5KLRG1hi_up\" for x in D8MP_vs_D5TE_up] \\\n",
    "+ [\"D8TE_vs_D5KLRG1lo_up\" for x in D8TE_vs_D5EE_up] \\\n",
    "+ [\"D8TE_vs_D5KLRG1hi_up\" for x in D8TE_vs_D5TE_up] \\\n",
    "+ [\"D5KLRG1lo_vs_Naive_dn\" for x in D5EE_vs_Naive_dn] \\\n",
    "+ [\"D5KLRG1hi_vs_Naive_dn\" for x in D5TE_vs_Naive_dn] \\\n",
    "+ [\"D8EE_vs_D5KLRG1lo_dn\" for x in D8EE_vs_D5EE_dn] \\\n",
    "+ [\"D8EE_vs_D5KLRG1hi_dn\" for x in D8EE_vs_D5TE_dn] \\\n",
    "+ [\"D8MP_vs_D5KLRG1lo_dn\" for x in D8MP_vs_D5EE_dn] \\\n",
    "+ [\"D8MP_vs_D5KLRG1hi_dn\" for x in D8MP_vs_D5TE_dn] \\\n",
    "+ [\"D8TE_vs_D5KLRG1lo_dn\" for x in D8TE_vs_D5EE_dn] \\\n",
    "+ [\"D8TE_vs_D5KLRG1hi_dn\" for x in D8TE_vs_D5TE_dn]\n",
    "\n",
    "gene_symbol = D5EE_vs_Naive_up + D5TE_vs_Naive_up + D8EE_vs_D5EE_up + D8EE_vs_D5TE_up + \\\n",
    "D8MP_vs_D5EE_up + D8MP_vs_D5TE_up + D8TE_vs_D5EE_up + D8TE_vs_D5TE_up + \\\n",
    "D5EE_vs_Naive_dn + D5TE_vs_Naive_dn + D8EE_vs_D5EE_dn + D8EE_vs_D5TE_dn + \\\n",
    "D8MP_vs_D5EE_dn + D8MP_vs_D5TE_dn + D8TE_vs_D5EE_dn + D8TE_vs_D5TE_dn \n",
    "\n",
    "gs_df = pd.DataFrame({\"gs_name\": gs_name, \"gene_symbol\": gene_symbol})\n",
    "gs_df.to_csv(\"2018_IMMUNITY_Wang_signatures_mouse.csv\", index=False)"
   ]
  },
  {
   "cell_type": "code",
   "execution_count": null,
   "metadata": {},
   "outputs": [],
   "source": []
  }
 ],
 "metadata": {
  "kernelspec": {
   "display_name": "Python 3",
   "language": "python",
   "name": "python3"
  },
  "language_info": {
   "codemirror_mode": {
    "name": "ipython",
    "version": 3
   },
   "file_extension": ".py",
   "mimetype": "text/x-python",
   "name": "python",
   "nbconvert_exporter": "python",
   "pygments_lexer": "ipython3",
   "version": "3.8.3"
  }
 },
 "nbformat": 4,
 "nbformat_minor": 4
}
