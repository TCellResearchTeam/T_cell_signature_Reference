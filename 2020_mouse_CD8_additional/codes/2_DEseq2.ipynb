{
 "cells": [
  {
   "cell_type": "code",
   "execution_count": 3,
   "metadata": {},
   "outputs": [],
   "source": [
    "library(readr)\n",
    "library(GenomicFeatures)\n",
    "library(DESeq2)\n",
    "library(org.Mm.eg.db)\n",
    "library(rjson)\n",
    "library(tximport)\n",
    "library(DBI)\n",
    "library(rje)\n",
    "library(plyr)\n",
    "library(tidyverse)"
   ]
  },
  {
   "cell_type": "code",
   "execution_count": 2,
   "metadata": {},
   "outputs": [
    {
     "data": {
      "text/html": [
       "'/media/pipkin/ROCKET-PRO/T_cell_signature_Reference/2020_mouse_CD8_additional'"
      ],
      "text/latex": [
       "'/media/pipkin/ROCKET-PRO/T\\_cell\\_signature\\_Reference/2020\\_mouse\\_CD8\\_additional'"
      ],
      "text/markdown": [
       "'/media/pipkin/ROCKET-PRO/T_cell_signature_Reference/2020_mouse_CD8_additional'"
      ],
      "text/plain": [
       "[1] \"/media/pipkin/ROCKET-PRO/T_cell_signature_Reference/2020_mouse_CD8_additional\""
      ]
     },
     "metadata": {},
     "output_type": "display_data"
    }
   ],
   "source": [
    "code.dir <- getwd()\n",
    "base.dir <- gsub('/codes', '', code.dir)\n",
    "base.dir"
   ]
  },
  {
   "cell_type": "code",
   "execution_count": 4,
   "metadata": {},
   "outputs": [],
   "source": [
    "wk.dir <- file.path(base.dir, \"2_DEseq_out\")\n",
    "setwd(wk.dir)"
   ]
  },
  {
   "cell_type": "code",
   "execution_count": 5,
   "metadata": {},
   "outputs": [
    {
     "name": "stderr",
     "output_type": "stream",
     "text": [
      "\n",
      "\u001b[36m──\u001b[39m \u001b[1m\u001b[1mColumn specification\u001b[1m\u001b[22m \u001b[36m────────────────────────────────────────────────────────\u001b[39m\n",
      "cols(\n",
      "  ensembl_stable_ID = \u001b[31mcol_character()\u001b[39m,\n",
      "  gene_name = \u001b[31mcol_character()\u001b[39m\n",
      ")\n",
      "\n",
      "\n"
     ]
    }
   ],
   "source": [
    "######################################## Convert ENSEMBL ID to gene symbols ########################################\n",
    "# Download convert table from:http://useast.ensembl.org/biomart/martview/8c1957c27101a044a318d51140a289e1\n",
    "\n",
    "cv_file <- '/home/pipkin/references/mm_BioMart_GeneStableID_GeneName.txt'\n",
    "cv_tb <- read_csv(cv_file)\n",
    "\n",
    "matchGN <- function(input, outfilename, cvTb=cv_tb){\n",
    "    colnames(input) <- c(\"ensembl_stable_ID\", colnames(input)[2:length(colnames(input))])\n",
    "    output <- cvTb %>% right_join(input, by=\"ensembl_stable_ID\")\n",
    "    output$ensembl_stable_ID <- NULL\n",
    "    write_csv(output, outfilename)\n",
    "}"
   ]
  },
  {
   "cell_type": "code",
   "execution_count": 9,
   "metadata": {},
   "outputs": [
    {
     "name": "stderr",
     "output_type": "stream",
     "text": [
      "'select()' returned 1:many mapping between keys and columns\n",
      "\n"
     ]
    }
   ],
   "source": [
    "###--- Make reference\n",
    "#txdb <- makeTxDbFromGFF('/home/pipkin/references/GRCm38.99/Mus_musculus.GRCm38.99.gtf')\n",
    "#saveDb(txdb, file='/home/pipkin/references/GRCm38.99/Mus_musculus.GRCm38.99')\n",
    "mmRef <- '/home/pipkin/references/GRCm38.102/Mus_musculus.GRCm38.102'\n",
    "\n",
    "###--- Convert transcript ID to gene ID\n",
    "txdb <- loadDb(mmRef)\n",
    "k <- keys(txdb, \"GENEID\")\n",
    "res <- AnnotationDbi::select(txdb, k, \"TXNAME\", \"GENEID\")\n",
    "tx2gene <- res[,2:1]"
   ]
  },
  {
   "cell_type": "markdown",
   "metadata": {},
   "source": [
    "## 2016_SCIENCE_Mackay"
   ]
  },
  {
   "cell_type": "code",
   "execution_count": 51,
   "metadata": {},
   "outputs": [
    {
     "name": "stderr",
     "output_type": "stream",
     "text": [
      "Parsed with column specification:\n",
      "cols(\n",
      "  GEO_Accession = \u001b[31mcol_character()\u001b[39m,\n",
      "  sp_name = \u001b[31mcol_character()\u001b[39m\n",
      ")\n",
      "\n",
      "Parsed with column specification:\n",
      "cols(\n",
      "  .default = col_character(),\n",
      "  AvgSpotLen = \u001b[32mcol_double()\u001b[39m,\n",
      "  Bases = \u001b[32mcol_double()\u001b[39m,\n",
      "  Bytes = \u001b[32mcol_double()\u001b[39m,\n",
      "  ReleaseDate = \u001b[34mcol_datetime(format = \"\")\u001b[39m\n",
      ")\n",
      "\n",
      "See spec(...) for full column specifications.\n",
      "\n",
      "Joining, by = \"GEO_Accession\"\n",
      "\n"
     ]
    }
   ],
   "source": [
    "mackey.sp.info <- file.path(base.dir, '1_raw_count_table/2016_SCIENCE_Mackay_rawCount_sample_info.csv')\n",
    "mackey.sp.info.df <- read_csv(mackey.sp.info)\n",
    "\n",
    "mackey.srr.info <- file.path(base.dir, '1_raw_count_table/2016_SCIENCE_Mackay_rawCount_SRA_Run_Table.txt')\n",
    "mackey.srr.info.df <- read_csv(mackey.srr.info) %>% select(one_of(c(\"GEO_Accession (exp)\", \"source_name\", \"Tissue\")))\n",
    "colnames(mackey.srr.info.df) <- c(\"GEO_Accession\", \"source_name\", \"tissue\")\n",
    "\n",
    "mackey.srr.info.df <- mackey.srr.info.df %>% left_join(mackey.sp.info.df)\n",
    "\n",
    "# Write\n",
    "out.name <- file.path(base.dir, '1_raw_count_table/2016_SCIENCE_Mackay_rawCount_ref.csv')\n",
    "write_csv(mackey.srr.info.df, out.name)"
   ]
  },
  {
   "cell_type": "code",
   "execution_count": 163,
   "metadata": {},
   "outputs": [
    {
     "name": "stderr",
     "output_type": "stream",
     "text": [
      "Parsed with column specification:\n",
      "cols(\n",
      "  GEO_Accession = \u001b[31mcol_character()\u001b[39m,\n",
      "  source_name = \u001b[31mcol_character()\u001b[39m,\n",
      "  tissue = \u001b[31mcol_character()\u001b[39m,\n",
      "  sp_name = \u001b[31mcol_character()\u001b[39m,\n",
      "  condition = \u001b[31mcol_character()\u001b[39m,\n",
      "  sample_name = \u001b[31mcol_character()\u001b[39m,\n",
      "  cond_abbr = \u001b[31mcol_character()\u001b[39m\n",
      ")\n",
      "\n"
     ]
    },
    {
     "data": {
      "text/html": [
       "<table>\n",
       "<caption>A tibble: 6 × 8</caption>\n",
       "<thead>\n",
       "\t<tr><th scope=col>GEO_Accession</th><th scope=col>source_name</th><th scope=col>tissue</th><th scope=col>sp_name</th><th scope=col>condition</th><th scope=col>sample_name</th><th scope=col>cond_abbr</th><th scope=col>keys</th></tr>\n",
       "\t<tr><th scope=col>&lt;chr&gt;</th><th scope=col>&lt;chr&gt;</th><th scope=col>&lt;chr&gt;</th><th scope=col>&lt;chr&gt;</th><th scope=col>&lt;chr&gt;</th><th scope=col>&lt;chr&gt;</th><th scope=col>&lt;chr&gt;</th><th scope=col>&lt;chr&gt;</th></tr>\n",
       "</thead>\n",
       "<tbody>\n",
       "\t<tr><td>GSM1819913</td><td>Naïve CD8 T cells_spleen                     </td><td>Spleen</td><td>C1_C5N42ANXX_ATCACGAT</td><td>Naive         </td><td>Naive_1         </td><td>Naive</td><td>C5N42ANXX_ATCACGAT</td></tr>\n",
       "\t<tr><td>GSM1819914</td><td>LCMV central memory CD8 T cells_spleen       </td><td>Spleen</td><td>C2_C5N42ANXX_CGATGTAT</td><td>LCMV_Tcm_sp   </td><td>LCMV_Tcm_sp_1   </td><td>Tcm  </td><td>C5N42ANXX_CGATGTAT</td></tr>\n",
       "\t<tr><td>GSM1819915</td><td>LCMV effector memory CD8 T cells_spleen      </td><td>Spleen</td><td>C3_C5N42ANXX_TTAGGCAT</td><td>LCMV_Tem_sp   </td><td>LCMV_Tem_sp_1   </td><td>Tem  </td><td>C5N42ANXX_TTAGGCAT</td></tr>\n",
       "\t<tr><td>GSM1819916</td><td>LCMV effector memory CD8 T cells_liver       </td><td>Liver </td><td>C4_C5N42ANXX_TGACCAAT</td><td>LCMV_Tem_Liver</td><td>LCMV_Tem_Liver_1</td><td>Tem  </td><td>C5N42ANXX_TGACCAAT</td></tr>\n",
       "\t<tr><td>GSM1819917</td><td>LCMV tissue-resident memory CD8 T cells_liver</td><td>Liver </td><td>C5_C5N42ANXX_ACAGTGAT</td><td>LCMV_Trm_Liver</td><td>LCMV_Trm_Liver_1</td><td>Trm  </td><td>C5N42ANXX_ACAGTGAT</td></tr>\n",
       "\t<tr><td>GSM1819918</td><td>LCMV tissue-resident memory CD8 T cells_gut  </td><td>Gut   </td><td>C6_C5N42ANXX_GCCAATAT</td><td>LCMV_Trm_Gut  </td><td>LCMV_Trm_Gut_1  </td><td>Trm  </td><td>C5N42ANXX_GCCAATAT</td></tr>\n",
       "</tbody>\n",
       "</table>\n"
      ],
      "text/latex": [
       "A tibble: 6 × 8\n",
       "\\begin{tabular}{llllllll}\n",
       " GEO\\_Accession & source\\_name & tissue & sp\\_name & condition & sample\\_name & cond\\_abbr & keys\\\\\n",
       " <chr> & <chr> & <chr> & <chr> & <chr> & <chr> & <chr> & <chr>\\\\\n",
       "\\hline\n",
       "\t GSM1819913 & Naïve CD8 T cells\\_spleen                      & Spleen & C1\\_C5N42ANXX\\_ATCACGAT & Naive          & Naive\\_1          & Naive & C5N42ANXX\\_ATCACGAT\\\\\n",
       "\t GSM1819914 & LCMV central memory CD8 T cells\\_spleen        & Spleen & C2\\_C5N42ANXX\\_CGATGTAT & LCMV\\_Tcm\\_sp    & LCMV\\_Tcm\\_sp\\_1    & Tcm   & C5N42ANXX\\_CGATGTAT\\\\\n",
       "\t GSM1819915 & LCMV effector memory CD8 T cells\\_spleen       & Spleen & C3\\_C5N42ANXX\\_TTAGGCAT & LCMV\\_Tem\\_sp    & LCMV\\_Tem\\_sp\\_1    & Tem   & C5N42ANXX\\_TTAGGCAT\\\\\n",
       "\t GSM1819916 & LCMV effector memory CD8 T cells\\_liver        & Liver  & C4\\_C5N42ANXX\\_TGACCAAT & LCMV\\_Tem\\_Liver & LCMV\\_Tem\\_Liver\\_1 & Tem   & C5N42ANXX\\_TGACCAAT\\\\\n",
       "\t GSM1819917 & LCMV tissue-resident memory CD8 T cells\\_liver & Liver  & C5\\_C5N42ANXX\\_ACAGTGAT & LCMV\\_Trm\\_Liver & LCMV\\_Trm\\_Liver\\_1 & Trm   & C5N42ANXX\\_ACAGTGAT\\\\\n",
       "\t GSM1819918 & LCMV tissue-resident memory CD8 T cells\\_gut   & Gut    & C6\\_C5N42ANXX\\_GCCAATAT & LCMV\\_Trm\\_Gut   & LCMV\\_Trm\\_Gut\\_1   & Trm   & C5N42ANXX\\_GCCAATAT\\\\\n",
       "\\end{tabular}\n"
      ],
      "text/markdown": [
       "\n",
       "A tibble: 6 × 8\n",
       "\n",
       "| GEO_Accession &lt;chr&gt; | source_name &lt;chr&gt; | tissue &lt;chr&gt; | sp_name &lt;chr&gt; | condition &lt;chr&gt; | sample_name &lt;chr&gt; | cond_abbr &lt;chr&gt; | keys &lt;chr&gt; |\n",
       "|---|---|---|---|---|---|---|---|\n",
       "| GSM1819913 | Naïve CD8 T cells_spleen                      | Spleen | C1_C5N42ANXX_ATCACGAT | Naive          | Naive_1          | Naive | C5N42ANXX_ATCACGAT |\n",
       "| GSM1819914 | LCMV central memory CD8 T cells_spleen        | Spleen | C2_C5N42ANXX_CGATGTAT | LCMV_Tcm_sp    | LCMV_Tcm_sp_1    | Tcm   | C5N42ANXX_CGATGTAT |\n",
       "| GSM1819915 | LCMV effector memory CD8 T cells_spleen       | Spleen | C3_C5N42ANXX_TTAGGCAT | LCMV_Tem_sp    | LCMV_Tem_sp_1    | Tem   | C5N42ANXX_TTAGGCAT |\n",
       "| GSM1819916 | LCMV effector memory CD8 T cells_liver        | Liver  | C4_C5N42ANXX_TGACCAAT | LCMV_Tem_Liver | LCMV_Tem_Liver_1 | Tem   | C5N42ANXX_TGACCAAT |\n",
       "| GSM1819917 | LCMV tissue-resident memory CD8 T cells_liver | Liver  | C5_C5N42ANXX_ACAGTGAT | LCMV_Trm_Liver | LCMV_Trm_Liver_1 | Trm   | C5N42ANXX_ACAGTGAT |\n",
       "| GSM1819918 | LCMV tissue-resident memory CD8 T cells_gut   | Gut    | C6_C5N42ANXX_GCCAATAT | LCMV_Trm_Gut   | LCMV_Trm_Gut_1   | Trm   | C5N42ANXX_GCCAATAT |\n",
       "\n"
      ],
      "text/plain": [
       "  GEO_Accession source_name                                   tissue\n",
       "1 GSM1819913    Naïve CD8 T cells_spleen                      Spleen\n",
       "2 GSM1819914    LCMV central memory CD8 T cells_spleen        Spleen\n",
       "3 GSM1819915    LCMV effector memory CD8 T cells_spleen       Spleen\n",
       "4 GSM1819916    LCMV effector memory CD8 T cells_liver        Liver \n",
       "5 GSM1819917    LCMV tissue-resident memory CD8 T cells_liver Liver \n",
       "6 GSM1819918    LCMV tissue-resident memory CD8 T cells_gut   Gut   \n",
       "  sp_name               condition      sample_name      cond_abbr\n",
       "1 C1_C5N42ANXX_ATCACGAT Naive          Naive_1          Naive    \n",
       "2 C2_C5N42ANXX_CGATGTAT LCMV_Tcm_sp    LCMV_Tcm_sp_1    Tcm      \n",
       "3 C3_C5N42ANXX_TTAGGCAT LCMV_Tem_sp    LCMV_Tem_sp_1    Tem      \n",
       "4 C4_C5N42ANXX_TGACCAAT LCMV_Tem_Liver LCMV_Tem_Liver_1 Tem      \n",
       "5 C5_C5N42ANXX_ACAGTGAT LCMV_Trm_Liver LCMV_Trm_Liver_1 Trm      \n",
       "6 C6_C5N42ANXX_GCCAATAT LCMV_Trm_Gut   LCMV_Trm_Gut_1   Trm      \n",
       "  keys              \n",
       "1 C5N42ANXX_ATCACGAT\n",
       "2 C5N42ANXX_CGATGTAT\n",
       "3 C5N42ANXX_TTAGGCAT\n",
       "4 C5N42ANXX_TGACCAAT\n",
       "5 C5N42ANXX_ACAGTGAT\n",
       "6 C5N42ANXX_GCCAATAT"
      ]
     },
     "metadata": {},
     "output_type": "display_data"
    }
   ],
   "source": [
    "mackey.anno <- file.path(base.dir, '1_raw_count_table/2016_SCIENCE_Mackay_rawCount_ref_annotated.csv')\n",
    "mackey.anno.df <- read_csv(mackey.anno)\n",
    "\n",
    "keys <- c()\n",
    "for (i in mackey.anno.df$sp_name){\n",
    "    i <- gsub(\"L003\", \"\", i)\n",
    "    i_vec <- unlist(strsplit(i, \"_\"))\n",
    "    i_vec <- tail(i_vec,2)\n",
    "    keys <- c(keys, paste(i_vec, collapse=\"_\"))\n",
    "}\n",
    "\n",
    "mackey.anno.df$keys <- keys\n",
    "\n",
    "mackey.anno.df.use <- mackey.anno.df %>% filter(tissue != \"Bone marrow\") %>% \n",
    "    filter(cond_abbr != \"NK\")\n",
    "head(mackey.anno.df.use)\n",
    "\n",
    "col.df <- mackey.anno.df.use %>% select(one_of('keys', 'cond_abbr')) %>% column_to_rownames(var=\"keys\")\n",
    "colnames(col.df) <- c(\"condition\")"
   ]
  },
  {
   "cell_type": "code",
   "execution_count": 164,
   "metadata": {},
   "outputs": [
    {
     "name": "stderr",
     "output_type": "stream",
     "text": [
      "Parsed with column specification:\n",
      "cols(\n",
      "  .default = col_double(),\n",
      "  Symbol = \u001b[31mcol_character()\u001b[39m\n",
      ")\n",
      "\n",
      "See spec(...) for full column specifications.\n",
      "\n"
     ]
    },
    {
     "data": {
      "text/html": [
       "<table>\n",
       "<caption>A data.frame: 6 × 20</caption>\n",
       "<thead>\n",
       "\t<tr><th></th><th scope=col>C5N42ANXX_ATCACGAT</th><th scope=col>C5N42ANXX_CGATGTAT</th><th scope=col>C5N42ANXX_TTAGGCAT</th><th scope=col>C5N42ANXX_TGACCAAT</th><th scope=col>C5N42ANXX_ACAGTGAT</th><th scope=col>C5N42ANXX_GCCAATAT</th><th scope=col>C5N42ANXX_TAGCTTAT</th><th scope=col>C5N42ANXX_GGCTACAT</th><th scope=col>C5N42ANXX_CTTGTAAT</th><th scope=col>C5N42ANXX_AGTCAACA</th><th scope=col>C5N42ANXX_AGTTCCGT</th><th scope=col>C5N42ANXX_ATGTCAGA</th><th scope=col>C6GUTANXX_GGCTACAT</th><th scope=col>C6GUTANXX_CTTGTAAT</th><th scope=col>C6GUTANXX_ATGTCAGA</th><th scope=col>C6GUTANXX_GTGAAACG</th><th scope=col>C6GUTANXX_AGTCAACA</th><th scope=col>C6GUTANXX_CCGTCCCG</th><th scope=col>C6GUTANXX_AGTTCCGT</th><th scope=col>C6GUTANXX_GTCCGCAC</th></tr>\n",
       "\t<tr><th></th><th scope=col>&lt;dbl&gt;</th><th scope=col>&lt;dbl&gt;</th><th scope=col>&lt;dbl&gt;</th><th scope=col>&lt;dbl&gt;</th><th scope=col>&lt;dbl&gt;</th><th scope=col>&lt;dbl&gt;</th><th scope=col>&lt;dbl&gt;</th><th scope=col>&lt;dbl&gt;</th><th scope=col>&lt;dbl&gt;</th><th scope=col>&lt;dbl&gt;</th><th scope=col>&lt;dbl&gt;</th><th scope=col>&lt;dbl&gt;</th><th scope=col>&lt;dbl&gt;</th><th scope=col>&lt;dbl&gt;</th><th scope=col>&lt;dbl&gt;</th><th scope=col>&lt;dbl&gt;</th><th scope=col>&lt;dbl&gt;</th><th scope=col>&lt;dbl&gt;</th><th scope=col>&lt;dbl&gt;</th><th scope=col>&lt;dbl&gt;</th></tr>\n",
       "</thead>\n",
       "<tbody>\n",
       "\t<tr><th scope=row>Xkr4</th><td>   0</td><td>  0</td><td>  0</td><td>  0</td><td>  0</td><td>  0</td><td>  0</td><td>  0</td><td>  0</td><td>  0</td><td>  0</td><td>  0</td><td> 0</td><td> 0</td><td> 0</td><td> 0</td><td> 0</td><td> 0</td><td> 0</td><td> 0</td></tr>\n",
       "\t<tr><th scope=row>Gm19938</th><td>   0</td><td>  0</td><td>  0</td><td>  0</td><td>  0</td><td>  0</td><td>  0</td><td>  0</td><td>  0</td><td>  0</td><td>  0</td><td>  0</td><td> 0</td><td> 0</td><td> 0</td><td> 0</td><td> 0</td><td> 0</td><td> 0</td><td> 0</td></tr>\n",
       "\t<tr><th scope=row>Gm10568</th><td>   0</td><td>  0</td><td>  0</td><td>  0</td><td>  0</td><td>  0</td><td>  0</td><td>  0</td><td>  0</td><td>  0</td><td>  0</td><td>  0</td><td> 0</td><td> 0</td><td> 0</td><td> 0</td><td> 0</td><td> 0</td><td> 0</td><td> 0</td></tr>\n",
       "\t<tr><th scope=row>Rp1</th><td>   0</td><td>  0</td><td>  0</td><td>  0</td><td>  0</td><td>  0</td><td>  0</td><td>  0</td><td>  0</td><td>  0</td><td>  0</td><td>  5</td><td> 0</td><td> 0</td><td> 0</td><td> 0</td><td> 0</td><td> 0</td><td> 0</td><td> 0</td></tr>\n",
       "\t<tr><th scope=row>Sox17</th><td>   0</td><td>  0</td><td>  4</td><td>  0</td><td>  0</td><td>  0</td><td>  0</td><td>  0</td><td>  1</td><td>  3</td><td>  0</td><td>  0</td><td> 0</td><td> 0</td><td> 5</td><td> 0</td><td> 0</td><td> 0</td><td> 0</td><td> 0</td></tr>\n",
       "\t<tr><th scope=row>Mrpl15</th><td>1068</td><td>730</td><td>640</td><td>621</td><td>541</td><td>914</td><td>875</td><td>604</td><td>683</td><td>588</td><td>641</td><td>620</td><td>34</td><td>12</td><td>26</td><td>19</td><td>42</td><td>30</td><td>33</td><td>63</td></tr>\n",
       "</tbody>\n",
       "</table>\n"
      ],
      "text/latex": [
       "A data.frame: 6 × 20\n",
       "\\begin{tabular}{r|llllllllllllllllllll}\n",
       "  & C5N42ANXX\\_ATCACGAT & C5N42ANXX\\_CGATGTAT & C5N42ANXX\\_TTAGGCAT & C5N42ANXX\\_TGACCAAT & C5N42ANXX\\_ACAGTGAT & C5N42ANXX\\_GCCAATAT & C5N42ANXX\\_TAGCTTAT & C5N42ANXX\\_GGCTACAT & C5N42ANXX\\_CTTGTAAT & C5N42ANXX\\_AGTCAACA & C5N42ANXX\\_AGTTCCGT & C5N42ANXX\\_ATGTCAGA & C6GUTANXX\\_GGCTACAT & C6GUTANXX\\_CTTGTAAT & C6GUTANXX\\_ATGTCAGA & C6GUTANXX\\_GTGAAACG & C6GUTANXX\\_AGTCAACA & C6GUTANXX\\_CCGTCCCG & C6GUTANXX\\_AGTTCCGT & C6GUTANXX\\_GTCCGCAC\\\\\n",
       "  & <dbl> & <dbl> & <dbl> & <dbl> & <dbl> & <dbl> & <dbl> & <dbl> & <dbl> & <dbl> & <dbl> & <dbl> & <dbl> & <dbl> & <dbl> & <dbl> & <dbl> & <dbl> & <dbl> & <dbl>\\\\\n",
       "\\hline\n",
       "\tXkr4 &    0 &   0 &   0 &   0 &   0 &   0 &   0 &   0 &   0 &   0 &   0 &   0 &  0 &  0 &  0 &  0 &  0 &  0 &  0 &  0\\\\\n",
       "\tGm19938 &    0 &   0 &   0 &   0 &   0 &   0 &   0 &   0 &   0 &   0 &   0 &   0 &  0 &  0 &  0 &  0 &  0 &  0 &  0 &  0\\\\\n",
       "\tGm10568 &    0 &   0 &   0 &   0 &   0 &   0 &   0 &   0 &   0 &   0 &   0 &   0 &  0 &  0 &  0 &  0 &  0 &  0 &  0 &  0\\\\\n",
       "\tRp1 &    0 &   0 &   0 &   0 &   0 &   0 &   0 &   0 &   0 &   0 &   0 &   5 &  0 &  0 &  0 &  0 &  0 &  0 &  0 &  0\\\\\n",
       "\tSox17 &    0 &   0 &   4 &   0 &   0 &   0 &   0 &   0 &   1 &   3 &   0 &   0 &  0 &  0 &  5 &  0 &  0 &  0 &  0 &  0\\\\\n",
       "\tMrpl15 & 1068 & 730 & 640 & 621 & 541 & 914 & 875 & 604 & 683 & 588 & 641 & 620 & 34 & 12 & 26 & 19 & 42 & 30 & 33 & 63\\\\\n",
       "\\end{tabular}\n"
      ],
      "text/markdown": [
       "\n",
       "A data.frame: 6 × 20\n",
       "\n",
       "| <!--/--> | C5N42ANXX_ATCACGAT &lt;dbl&gt; | C5N42ANXX_CGATGTAT &lt;dbl&gt; | C5N42ANXX_TTAGGCAT &lt;dbl&gt; | C5N42ANXX_TGACCAAT &lt;dbl&gt; | C5N42ANXX_ACAGTGAT &lt;dbl&gt; | C5N42ANXX_GCCAATAT &lt;dbl&gt; | C5N42ANXX_TAGCTTAT &lt;dbl&gt; | C5N42ANXX_GGCTACAT &lt;dbl&gt; | C5N42ANXX_CTTGTAAT &lt;dbl&gt; | C5N42ANXX_AGTCAACA &lt;dbl&gt; | C5N42ANXX_AGTTCCGT &lt;dbl&gt; | C5N42ANXX_ATGTCAGA &lt;dbl&gt; | C6GUTANXX_GGCTACAT &lt;dbl&gt; | C6GUTANXX_CTTGTAAT &lt;dbl&gt; | C6GUTANXX_ATGTCAGA &lt;dbl&gt; | C6GUTANXX_GTGAAACG &lt;dbl&gt; | C6GUTANXX_AGTCAACA &lt;dbl&gt; | C6GUTANXX_CCGTCCCG &lt;dbl&gt; | C6GUTANXX_AGTTCCGT &lt;dbl&gt; | C6GUTANXX_GTCCGCAC &lt;dbl&gt; |\n",
       "|---|---|---|---|---|---|---|---|---|---|---|---|---|---|---|---|---|---|---|---|---|\n",
       "| Xkr4 |    0 |   0 |   0 |   0 |   0 |   0 |   0 |   0 |   0 |   0 |   0 |   0 |  0 |  0 |  0 |  0 |  0 |  0 |  0 |  0 |\n",
       "| Gm19938 |    0 |   0 |   0 |   0 |   0 |   0 |   0 |   0 |   0 |   0 |   0 |   0 |  0 |  0 |  0 |  0 |  0 |  0 |  0 |  0 |\n",
       "| Gm10568 |    0 |   0 |   0 |   0 |   0 |   0 |   0 |   0 |   0 |   0 |   0 |   0 |  0 |  0 |  0 |  0 |  0 |  0 |  0 |  0 |\n",
       "| Rp1 |    0 |   0 |   0 |   0 |   0 |   0 |   0 |   0 |   0 |   0 |   0 |   5 |  0 |  0 |  0 |  0 |  0 |  0 |  0 |  0 |\n",
       "| Sox17 |    0 |   0 |   4 |   0 |   0 |   0 |   0 |   0 |   1 |   3 |   0 |   0 |  0 |  0 |  5 |  0 |  0 |  0 |  0 |  0 |\n",
       "| Mrpl15 | 1068 | 730 | 640 | 621 | 541 | 914 | 875 | 604 | 683 | 588 | 641 | 620 | 34 | 12 | 26 | 19 | 42 | 30 | 33 | 63 |\n",
       "\n"
      ],
      "text/plain": [
       "        C5N42ANXX_ATCACGAT C5N42ANXX_CGATGTAT C5N42ANXX_TTAGGCAT\n",
       "Xkr4       0                 0                  0               \n",
       "Gm19938    0                 0                  0               \n",
       "Gm10568    0                 0                  0               \n",
       "Rp1        0                 0                  0               \n",
       "Sox17      0                 0                  4               \n",
       "Mrpl15  1068               730                640               \n",
       "        C5N42ANXX_TGACCAAT C5N42ANXX_ACAGTGAT C5N42ANXX_GCCAATAT\n",
       "Xkr4      0                  0                  0               \n",
       "Gm19938   0                  0                  0               \n",
       "Gm10568   0                  0                  0               \n",
       "Rp1       0                  0                  0               \n",
       "Sox17     0                  0                  0               \n",
       "Mrpl15  621                541                914               \n",
       "        C5N42ANXX_TAGCTTAT C5N42ANXX_GGCTACAT C5N42ANXX_CTTGTAAT\n",
       "Xkr4      0                  0                  0               \n",
       "Gm19938   0                  0                  0               \n",
       "Gm10568   0                  0                  0               \n",
       "Rp1       0                  0                  0               \n",
       "Sox17     0                  0                  1               \n",
       "Mrpl15  875                604                683               \n",
       "        C5N42ANXX_AGTCAACA C5N42ANXX_AGTTCCGT C5N42ANXX_ATGTCAGA\n",
       "Xkr4      0                  0                  0               \n",
       "Gm19938   0                  0                  0               \n",
       "Gm10568   0                  0                  0               \n",
       "Rp1       0                  0                  5               \n",
       "Sox17     3                  0                  0               \n",
       "Mrpl15  588                641                620               \n",
       "        C6GUTANXX_GGCTACAT C6GUTANXX_CTTGTAAT C6GUTANXX_ATGTCAGA\n",
       "Xkr4     0                  0                  0                \n",
       "Gm19938  0                  0                  0                \n",
       "Gm10568  0                  0                  0                \n",
       "Rp1      0                  0                  0                \n",
       "Sox17    0                  0                  5                \n",
       "Mrpl15  34                 12                 26                \n",
       "        C6GUTANXX_GTGAAACG C6GUTANXX_AGTCAACA C6GUTANXX_CCGTCCCG\n",
       "Xkr4     0                  0                  0                \n",
       "Gm19938  0                  0                  0                \n",
       "Gm10568  0                  0                  0                \n",
       "Rp1      0                  0                  0                \n",
       "Sox17    0                  0                  0                \n",
       "Mrpl15  19                 42                 30                \n",
       "        C6GUTANXX_AGTTCCGT C6GUTANXX_GTCCGCAC\n",
       "Xkr4     0                  0                \n",
       "Gm19938  0                  0                \n",
       "Gm10568  0                  0                \n",
       "Rp1      0                  0                \n",
       "Sox17    0                  0                \n",
       "Mrpl15  33                 63                "
      ]
     },
     "metadata": {},
     "output_type": "display_data"
    }
   ],
   "source": [
    "mackay.file <- file.path(base.dir, '1_raw_count_table/2016_SCIENCE_Mackay_rawCount.txt')\n",
    "mackay.df <- read_tsv(mackay.file)\n",
    "\n",
    "new_colnames <- c()\n",
    "for (i in colnames(mackay.df)[3:length(colnames(mackay.df))]){\n",
    "    i <- gsub(\"mm10\", \"\",i)\n",
    "    i <- gsub(\".bam\", \"\",i)\n",
    "    i <- gsub(\"L003\", \"\",i)\n",
    "    i_vec <- unlist(strsplit( i, \"_\"))\n",
    "    i_vec <- tail(i_vec,2)\n",
    "    new_colnames <- c(new_colnames, paste(i_vec, collapse=\"_\"))\n",
    "}\n",
    "\n",
    "colnames(mackay.df) <- c(c(\"EntrezID\", \"Symbol\"), new_colnames)\n",
    "\n",
    "mackay.df <- mackay.df %>% select(one_of(c(\"Symbol\"), mackey.anno.df.use$keys)) %>%\n",
    "    distinct(Symbol, .keep_all=TRUE)  %>% drop_na(Symbol) %>%\n",
    "    column_to_rownames(var=\"Symbol\")\n",
    "\n",
    "\n",
    "head(mackay.df)"
   ]
  },
  {
   "cell_type": "code",
   "execution_count": 165,
   "metadata": {},
   "outputs": [
    {
     "name": "stderr",
     "output_type": "stream",
     "text": [
      "converting counts to integer mode\n",
      "\n",
      "Warning message in DESeqDataSet(se, design = design, ignoreRank):\n",
      "“some variables in design formula are characters, converting to factors”\n"
     ]
    },
    {
     "data": {
      "text/html": [
       "'DESeqDataSet object of length 26625 with 0 metadata columns'"
      ],
      "text/latex": [
       "'DESeqDataSet object of length 26625 with 0 metadata columns'"
      ],
      "text/markdown": [
       "'DESeqDataSet object of length 26625 with 0 metadata columns'"
      ],
      "text/plain": [
       "[1] \"DESeqDataSet object of length 26625 with 0 metadata columns\""
      ]
     },
     "metadata": {},
     "output_type": "display_data"
    },
    {
     "name": "stderr",
     "output_type": "stream",
     "text": [
      "estimating size factors\n",
      "\n",
      "estimating dispersions\n",
      "\n",
      "gene-wise dispersion estimates\n",
      "\n",
      "mean-dispersion relationship\n",
      "\n",
      "final dispersion estimates\n",
      "\n",
      "fitting model and testing\n",
      "\n"
     ]
    }
   ],
   "source": [
    "dds <- DESeqDataSetFromMatrix(countData = mackay.df,\n",
    "                              colData = col.df,\n",
    "                              design= ~  condition)\n",
    "\n",
    "summary(dds)\n",
    "\n",
    "dds <- DESeq(dds)"
   ]
  },
  {
   "cell_type": "code",
   "execution_count": 167,
   "metadata": {},
   "outputs": [],
   "source": [
    "contrasts <- list(c(\"Tcm\", \"Tem\"), c(\"Tcm\", \"Trm\"), c(\"Tem\",\"Trm\"),\n",
    "                 c(\"Trm\", \"Naive\"), c(\"Tem\", \"Naive\"), c(\"Tcm\", \"Naive\"))\n",
    "for (i in c(1:6)) {\n",
    "    contrast_i <- contrasts[[i]]\n",
    "    outname_i <- paste(paste(contrast_i, collapse=\"_vs_\"), \".csv\", sep=\"\")\n",
    "    outname_i <- paste(\"2016_SCIENCE_Mackay\", outname_i, sep=\"--\")\n",
    "    results <- as_tibble(results(dds, contrast = c(\"condition\", contrast_i)), rownames='Symbol')\n",
    "    write_csv(results, outname_i)\n",
    "}"
   ]
  },
  {
   "cell_type": "markdown",
   "metadata": {},
   "source": [
    "## 2018_IMMUNITY_Wang"
   ]
  },
  {
   "cell_type": "code",
   "execution_count": 26,
   "metadata": {},
   "outputs": [
    {
     "name": "stderr",
     "output_type": "stream",
     "text": [
      "Parsed with column specification:\n",
      "cols(\n",
      "  Number = \u001b[32mcol_double()\u001b[39m,\n",
      "  Date = \u001b[31mcol_character()\u001b[39m,\n",
      "  `#` = \u001b[32mcol_double()\u001b[39m,\n",
      "  Description = \u001b[31mcol_character()\u001b[39m,\n",
      "  Degradation = \u001b[31mcol_character()\u001b[39m,\n",
      "  `WT-KO` = \u001b[31mcol_character()\u001b[39m,\n",
      "  condition = \u001b[31mcol_character()\u001b[39m\n",
      ")\n",
      "\n"
     ]
    },
    {
     "data": {
      "text/html": [
       "<table>\n",
       "<caption>A spec_tbl_df: 9 × 8</caption>\n",
       "<thead>\n",
       "\t<tr><th scope=col>Number</th><th scope=col>Date</th><th scope=col>#</th><th scope=col>Description</th><th scope=col>Degradation</th><th scope=col>WT-KO</th><th scope=col>condition</th><th scope=col>Samples</th></tr>\n",
       "\t<tr><th scope=col>&lt;dbl&gt;</th><th scope=col>&lt;chr&gt;</th><th scope=col>&lt;dbl&gt;</th><th scope=col>&lt;chr&gt;</th><th scope=col>&lt;chr&gt;</th><th scope=col>&lt;chr&gt;</th><th scope=col>&lt;chr&gt;</th><th scope=col>&lt;chr&gt;</th></tr>\n",
       "</thead>\n",
       "<tbody>\n",
       "\t<tr><td>11</td><td>3/28/17</td><td>1442</td><td>WT2-Day5-EEC </td><td>No</td><td>WT</td><td>D5EE</td><td>174_11_quant</td></tr>\n",
       "\t<tr><td>12</td><td>3/28/17</td><td>1442</td><td>WT2-Day5-SLEC</td><td>No</td><td>WT</td><td>D5TE</td><td>174_12_quant</td></tr>\n",
       "\t<tr><td>15</td><td>3/28/17</td><td>1443</td><td>WT3-Day5-EEC </td><td>No</td><td>WT</td><td>D5EE</td><td>174_15_quant</td></tr>\n",
       "\t<tr><td>19</td><td>3/31/17</td><td>1442</td><td>WT2-Day8-EEC </td><td>No</td><td>WT</td><td>D8EE</td><td>174_19_quant</td></tr>\n",
       "\t<tr><td>20</td><td>3/31/17</td><td>1442</td><td>WT2-Day8-SLEC</td><td>No</td><td>WT</td><td>D8TE</td><td>174_20_quant</td></tr>\n",
       "\t<tr><td>21</td><td>3/31/17</td><td>1442</td><td>WT2-Day8-MPEC</td><td>No</td><td>WT</td><td>D8MP</td><td>174_21_quant</td></tr>\n",
       "\t<tr><td>25</td><td>3/31/17</td><td>1443</td><td>WT3-Day8-EEC </td><td>No</td><td>WT</td><td>D8EE</td><td>174_25_quant</td></tr>\n",
       "\t<tr><td>26</td><td>3/31/17</td><td>1443</td><td>WT3-Day8-SLEC</td><td>No</td><td>WT</td><td>D8TE</td><td>174_26_quant</td></tr>\n",
       "\t<tr><td>27</td><td>3/31/17</td><td>1443</td><td>WT3-Day8-MPEC</td><td>No</td><td>WT</td><td>D8MP</td><td>174_27_quant</td></tr>\n",
       "</tbody>\n",
       "</table>\n"
      ],
      "text/latex": [
       "A spec\\_tbl\\_df: 9 × 8\n",
       "\\begin{tabular}{llllllll}\n",
       " Number & Date & \\# & Description & Degradation & WT-KO & condition & Samples\\\\\n",
       " <dbl> & <chr> & <dbl> & <chr> & <chr> & <chr> & <chr> & <chr>\\\\\n",
       "\\hline\n",
       "\t 11 & 3/28/17 & 1442 & WT2-Day5-EEC  & No & WT & D5EE & 174\\_11\\_quant\\\\\n",
       "\t 12 & 3/28/17 & 1442 & WT2-Day5-SLEC & No & WT & D5TE & 174\\_12\\_quant\\\\\n",
       "\t 15 & 3/28/17 & 1443 & WT3-Day5-EEC  & No & WT & D5EE & 174\\_15\\_quant\\\\\n",
       "\t 19 & 3/31/17 & 1442 & WT2-Day8-EEC  & No & WT & D8EE & 174\\_19\\_quant\\\\\n",
       "\t 20 & 3/31/17 & 1442 & WT2-Day8-SLEC & No & WT & D8TE & 174\\_20\\_quant\\\\\n",
       "\t 21 & 3/31/17 & 1442 & WT2-Day8-MPEC & No & WT & D8MP & 174\\_21\\_quant\\\\\n",
       "\t 25 & 3/31/17 & 1443 & WT3-Day8-EEC  & No & WT & D8EE & 174\\_25\\_quant\\\\\n",
       "\t 26 & 3/31/17 & 1443 & WT3-Day8-SLEC & No & WT & D8TE & 174\\_26\\_quant\\\\\n",
       "\t 27 & 3/31/17 & 1443 & WT3-Day8-MPEC & No & WT & D8MP & 174\\_27\\_quant\\\\\n",
       "\\end{tabular}\n"
      ],
      "text/markdown": [
       "\n",
       "A spec_tbl_df: 9 × 8\n",
       "\n",
       "| Number &lt;dbl&gt; | Date &lt;chr&gt; | # &lt;dbl&gt; | Description &lt;chr&gt; | Degradation &lt;chr&gt; | WT-KO &lt;chr&gt; | condition &lt;chr&gt; | Samples &lt;chr&gt; |\n",
       "|---|---|---|---|---|---|---|---|\n",
       "| 11 | 3/28/17 | 1442 | WT2-Day5-EEC  | No | WT | D5EE | 174_11_quant |\n",
       "| 12 | 3/28/17 | 1442 | WT2-Day5-SLEC | No | WT | D5TE | 174_12_quant |\n",
       "| 15 | 3/28/17 | 1443 | WT3-Day5-EEC  | No | WT | D5EE | 174_15_quant |\n",
       "| 19 | 3/31/17 | 1442 | WT2-Day8-EEC  | No | WT | D8EE | 174_19_quant |\n",
       "| 20 | 3/31/17 | 1442 | WT2-Day8-SLEC | No | WT | D8TE | 174_20_quant |\n",
       "| 21 | 3/31/17 | 1442 | WT2-Day8-MPEC | No | WT | D8MP | 174_21_quant |\n",
       "| 25 | 3/31/17 | 1443 | WT3-Day8-EEC  | No | WT | D8EE | 174_25_quant |\n",
       "| 26 | 3/31/17 | 1443 | WT3-Day8-SLEC | No | WT | D8TE | 174_26_quant |\n",
       "| 27 | 3/31/17 | 1443 | WT3-Day8-MPEC | No | WT | D8MP | 174_27_quant |\n",
       "\n"
      ],
      "text/plain": [
       "  Number Date    #    Description   Degradation WT-KO condition Samples     \n",
       "1 11     3/28/17 1442 WT2-Day5-EEC  No          WT    D5EE      174_11_quant\n",
       "2 12     3/28/17 1442 WT2-Day5-SLEC No          WT    D5TE      174_12_quant\n",
       "3 15     3/28/17 1443 WT3-Day5-EEC  No          WT    D5EE      174_15_quant\n",
       "4 19     3/31/17 1442 WT2-Day8-EEC  No          WT    D8EE      174_19_quant\n",
       "5 20     3/31/17 1442 WT2-Day8-SLEC No          WT    D8TE      174_20_quant\n",
       "6 21     3/31/17 1442 WT2-Day8-MPEC No          WT    D8MP      174_21_quant\n",
       "7 25     3/31/17 1443 WT3-Day8-EEC  No          WT    D8EE      174_25_quant\n",
       "8 26     3/31/17 1443 WT3-Day8-SLEC No          WT    D8TE      174_26_quant\n",
       "9 27     3/31/17 1443 WT3-Day8-MPEC No          WT    D8MP      174_27_quant"
      ]
     },
     "metadata": {},
     "output_type": "display_data"
    }
   ],
   "source": [
    "wang.sp.info <- file.path(base.dir, '1_raw_count_table/2018_IMMUNITY_Wang_sample_description.csv')\n",
    "wang.sp.info.df <- read_csv(wang.sp.info)\n",
    "wang.sp.info.df.use <- wang.sp.info.df %>% \n",
    "    filter(Degradation == \"No\") %>% \n",
    "    filter(`WT-KO` != \"KO\")\n",
    "wang.sp.info.df.use$Samples <- paste(\"174\", wang.sp.info.df.use$Number, \"quant\", sep=\"_\")\n",
    "wang.sp.info.df.use"
   ]
  },
  {
   "cell_type": "code",
   "execution_count": 40,
   "metadata": {},
   "outputs": [
    {
     "name": "stderr",
     "output_type": "stream",
     "text": [
      "reading in files with read_tsv\n",
      "\n",
      "1 \n",
      "2 \n",
      "3 \n",
      "4 \n",
      "5 \n",
      "6 \n",
      "7 \n",
      "8 \n",
      "9 \n",
      "10 \n",
      "11 \n",
      "\n",
      "\n",
      "transcripts missing from tx2gene: 282\n",
      "\n",
      "summarizing abundance\n",
      "\n",
      "summarizing counts\n",
      "\n",
      "summarizing length\n",
      "\n",
      "using counts and average transcript lengths from tximport\n",
      "\n"
     ]
    },
    {
     "data": {
      "text/html": [
       "'DESeqDataSet object of length 35721 with 0 metadata columns'"
      ],
      "text/latex": [
       "'DESeqDataSet object of length 35721 with 0 metadata columns'"
      ],
      "text/markdown": [
       "'DESeqDataSet object of length 35721 with 0 metadata columns'"
      ],
      "text/plain": [
       "[1] \"DESeqDataSet object of length 35721 with 0 metadata columns\""
      ]
     },
     "metadata": {},
     "output_type": "display_data"
    },
    {
     "name": "stderr",
     "output_type": "stream",
     "text": [
      "estimating size factors\n",
      "\n",
      "using 'avgTxLength' from assays(dds), correcting for library size\n",
      "\n",
      "estimating dispersions\n",
      "\n",
      "gene-wise dispersion estimates\n",
      "\n",
      "mean-dispersion relationship\n",
      "\n",
      "final dispersion estimates\n",
      "\n",
      "fitting model and testing\n",
      "\n"
     ]
    }
   ],
   "source": [
    "salmon_out_dir <- '/media/pipkin/ROCKET-PRO/T_cell_signature_Reference/2020_mouse_CD8_additional/0_salmon_out/Exp174'\n",
    "\n",
    "# Read files\n",
    "files <- file.path(salmon_out_dir,wang.sp.info.df.use$Samples,\"quant.sf\")\n",
    "nav.file.1 <- '/media/pipkin/ROCKET-PRO/T_cell_signature_Reference/2020_mouse_CD8_additional/0_salmon_out/Exp36/Exp36_Naive1/quant.sf'\n",
    "nav.file.2 <- '/media/pipkin/ROCKET-PRO/T_cell_signature_Reference/2020_mouse_CD8_additional/0_salmon_out/Exp36/Exp36_Naive2/quant.sf'\n",
    "files <- c( nav.file.1, nav.file.2,files)\n",
    "\n",
    "# Names & Conditions\n",
    "f.conds <- c(\"Naive\", \"Naive\", wang.sp.info.df.use$condition)\n",
    "f.names <- c(\"Naive1\", \"Naive2\", wang.sp.info.df.use$Description)\n",
    "\n",
    "names(files) <- f.names\n",
    "txi <- tximport(files, type=\"salmon\", tx2gene=tx2gene, ignoreTxVersion = TRUE, dropInfReps = TRUE) # Drop in freps TURE = ignore verison  # Ignore TX verison stringsplits on . \n",
    "\n",
    "# Build sample table\n",
    "sampleTable <- data.frame(condition = factor(f.conds))\n",
    "rownames(sampleTable) <- colnames(txi$counts)\n",
    "\n",
    "#import into DESEQ2 framework\n",
    "dds <- DESeqDataSetFromTximport(txi, sampleTable, ~ condition)\n",
    "summary(dds)\n",
    "\n",
    "###----- Run DEseq\n",
    "dds <- DESeq(dds)"
   ]
  },
  {
   "cell_type": "code",
   "execution_count": 44,
   "metadata": {},
   "outputs": [],
   "source": [
    "contrasts <- list(c(\"D5EE\", \"Naive\"), c(\"D5TE\", \"Naive\"),\n",
    "                 c(\"D8EE\", \"D5EE\"), c(\"D8TE\", \"D5EE\"), c(\"D8MP\", \"D5EE\"),\n",
    "                 c(\"D8EE\", \"D5TE\"), c(\"D8TE\", \"D5TE\"), c(\"D8MP\", \"D5TE\"))\n",
    "for (i in c(1:8)) {\n",
    "    contrast_i <- contrasts[[i]]\n",
    "    out_name_i <- paste(paste(contrast_i, collapse=\"_vs_\"), \".csv\", sep=\"\")\n",
    "    out_name_i <- paste(\"2018_IMMUNITY_Wang\", out_name_i, sep=\"--\")\n",
    "    out_name_i_gn <- gsub(\".csv\",\"_gn.csv\",  out_name_i)\n",
    "    results <- as_tibble(results(dds, contrast = c(\"condition\", contrast_i)), rownames='Symbol')\n",
    "    write_csv(results, out_name_i)\n",
    "    matchGN(results, out_name_i_gn)\n",
    "}"
   ]
  },
  {
   "cell_type": "code",
   "execution_count": null,
   "metadata": {},
   "outputs": [],
   "source": []
  }
 ],
 "metadata": {
  "kernelspec": {
   "display_name": "R",
   "language": "R",
   "name": "ir"
  },
  "language_info": {
   "codemirror_mode": "r",
   "file_extension": ".r",
   "mimetype": "text/x-r-source",
   "name": "R",
   "pygments_lexer": "r",
   "version": "3.6.3"
  }
 },
 "nbformat": 4,
 "nbformat_minor": 4
}
