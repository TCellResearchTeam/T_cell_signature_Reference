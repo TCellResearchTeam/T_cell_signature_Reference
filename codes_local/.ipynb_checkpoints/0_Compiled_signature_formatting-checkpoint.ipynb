{
 "cells": [
  {
   "cell_type": "code",
   "execution_count": 1,
   "metadata": {},
   "outputs": [],
   "source": [
    "import numpy as np\n",
    "import pandas as pd\n",
    "import os\n",
    "import glob"
   ]
  },
  {
   "cell_type": "code",
   "execution_count": 2,
   "metadata": {},
   "outputs": [
    {
     "data": {
      "text/plain": [
       "'/Volumes/Huitian/Projects/SARS2_Sc'"
      ]
     },
     "execution_count": 2,
     "metadata": {},
     "output_type": "execute_result"
    }
   ],
   "source": [
    "code_dir = os.getcwd()\n",
    "base_dir = code_dir.replace(\"/z_References/codes_local\",\"\")\n",
    "base_dir"
   ]
  },
  {
   "cell_type": "markdown",
   "metadata": {},
   "source": [
    "## 1. CD4"
   ]
  },
  {
   "cell_type": "code",
   "execution_count": 51,
   "metadata": {},
   "outputs": [],
   "source": [
    "wk_dir = '/Volumes/Huitian/Projects/SARS2_Sc/z_References/1_Formatted_csv/CD4'\n",
    "os.chdir(wk_dir)"
   ]
  },
  {
   "cell_type": "code",
   "execution_count": 13,
   "metadata": {},
   "outputs": [],
   "source": [
    "###----- 2018_SCI_IMMUNOL_Patil\n",
    "patil_2018 = '/Volumes/Huitian/Projects/SARS2_Sc/z_References/0_Downloads_PreProcessed/CD4/2018_SCI_IMMUNOL_Patil.csv'\n",
    "patil_2018_df = pd.read_csv(patil_2018)\n",
    "\n",
    "CD4_CTL_EFF = patil_2018_df[patil_2018_df['log2fc'] >= 1]['gene_name'].values.tolist()\n",
    "CD4_TCM = patil_2018_df[patil_2018_df['log2fc'] <= -1]['gene_name'].values.tolist()\n",
    "gs_name = [\"CD4_CTL_EFF\" for x in CD4_CTL_EFF] + [\"CD4_TCM\" for x in CD4_TCM]\n",
    "gene_symbol = CD4_CTL_EFF + CD4_TCM\n",
    "\n",
    "patil_2018_sig_df = pd.DataFrame({\"gs_name\": gs_name, \"gene_symbol\": gene_symbol})\n",
    "patil_2018_sig_df.to_csv(\"2018_SCI_IMMUNOL_Patil_signatures.csv\", index=False)"
   ]
  },
  {
   "cell_type": "code",
   "execution_count": 22,
   "metadata": {},
   "outputs": [],
   "source": [
    "###----- 2020_IMMUNITY_Cillo\n",
    "cillo_2020 = '/Volumes/Huitian/Projects/SARS2_Sc/z_References/0_Downloads_PreProcessed/CD4/2020_IMMUNITY_Cillo.csv'\n",
    "cillo_2020_df = pd.read_csv(cillo_2020)\n",
    "cell_cluster_unique = np.unique(cillo_2020_df['cell_cluster'])\n",
    "\n",
    "gs_name = []\n",
    "gene_symbol = []\n",
    "\n",
    "for i in cell_cluster_unique:\n",
    "    i_df = cillo_2020_df[cillo_2020_df['cell_cluster'] == i]\n",
    "    gs_name += [\"cluster_%s\"%str(i) for x in range(0, len(i_df))]\n",
    "    gene_symbol += i_df['gene_name'].values.tolist()\n",
    "    \n",
    "cillo_2020_sig_df = pd.DataFrame({\"gs_name\": gs_name, \"gene_symbol\": gene_symbol})\n",
    "cillo_2020_sig_df.to_csv(\"2020_IMMUNITY_Cillo_signatures.csv\", index=False)"
   ]
  },
  {
   "cell_type": "code",
   "execution_count": 44,
   "metadata": {},
   "outputs": [],
   "source": [
    "###----- 2019_JEM_Beura [Mouse]\n",
    "beura_2019_path = '/Volumes/Huitian/Projects/SARS2_Sc/z_References/0_Downloads_PreProcessed/CD4/2019_JEM_Beura'\n",
    "beura_2019_files = glob.glob(\"%s/*.csv\"%beura_2019_path)\n",
    "\n",
    "gs_name = []\n",
    "gene_symbol = []\n",
    "for i in beura_2019_files:\n",
    "    i_df = pd.read_csv(i)\n",
    "    i_name = i.split(\"/\")[-1].replace(\".csv\", \"\")\n",
    "    i_df = pd.read_csv(i)\n",
    "    gene_symbol = gene_symbol + i_df['SYMBOL'].tolist()\n",
    "    gs_name = gs_name + [i_name for x in range(0, len(i_df))]\n",
    "\n",
    "beura_2019_sig_df = pd.DataFrame({\"gs_name\": gs_name, \"gene_symbol\": gene_symbol})\n",
    "beura_2019_sig_df.to_csv(\"2019_JEM_Beura_signatures_mouse.csv\", index=False)"
   ]
  },
  {
   "cell_type": "code",
   "execution_count": 65,
   "metadata": {},
   "outputs": [],
   "source": [
    "###----- 2019_NAT_COMMU_BIOL_Schoettler\n",
    "Schoettler_2019_path = '/Volumes/Huitian/Projects/SARS2_Sc/z_References/0_Downloads_PreProcessed/CD4/2019_NAT_COMMU_BIOL_Schoettler'\n",
    "Schoettler_2019_files = glob.glob(\"%s/*.csv\"%Schoettler_2019_path)\n",
    "\n",
    "gs_name = []\n",
    "gene_symbol = []\n",
    "for i in Schoettler_2019_files:\n",
    "    i_df = pd.read_csv(i)\n",
    "    i_name = i.split(\"/\")[-1].replace(\".csv\", \"\")\n",
    "    i_df = pd.read_csv(i)\n",
    "    i_df_up = i_df[i_df['logFC'] >= 1]\n",
    "    i_df_up = i_df_up[i_df_up['adj.P.Val'] <= 0.05]\n",
    "    i_df_dn = i_df[i_df['logFC'] <= -1]\n",
    "    i_df_dn = i_df_dn[i_df_dn['adj.P.Val'] <= 0.05]\n",
    "    gene_symbol = gene_symbol + i_df_up['gene_name'].tolist() + i_df_dn['gene_name'].tolist()\n",
    "    gs_name = gs_name + [\"%s_up\"%i_name for x in range(0, len(i_df_up))] + [\"%s_dn\"%i_name for x in range(0, len(i_df_dn))]\n",
    "\n",
    "Schoettler_2019_sig_df = pd.DataFrame({\"gs_name\": gs_name, \"gene_symbol\": gene_symbol})\n",
    "Schoettler_2019_sig_df.to_csv(\"2019_NAT_COMMU_BIOL_Schoettler.csv\", index=False)"
   ]
  },
  {
   "cell_type": "markdown",
   "metadata": {},
   "source": [
    "## 2. CD8"
   ]
  },
  {
   "cell_type": "code",
   "execution_count": 49,
   "metadata": {},
   "outputs": [],
   "source": [
    "wk_dir = '/Volumes/Huitian/Projects/SARS2_Sc/z_References/1_Formatted_csv/CD8'\n",
    "os.chdir(wk_dir)"
   ]
  },
  {
   "cell_type": "code",
   "execution_count": 29,
   "metadata": {},
   "outputs": [],
   "source": [
    "###----- 2018_SCI_IMMUNOL_Buggert\n",
    "Buggert_2020 = '/Volumes/Huitian/Projects/SARS2_Sc/z_References/1_Formatted_csv/CD8/2018_SCI_IMMUNOL_Buggert.csv'\n",
    "Buggert_2020_df = pd.read_csv(Buggert_2020)\n",
    "Buggert_2020_df['CD69+_CD69-_log2fc'] = [float(x) for x in Buggert_2020_df['CD69+_CD69-_log2fc']]\n",
    "Buggert_2020_df['pval'] = [float(x) for x in Buggert_2020_df['pval']]\n",
    "Buggert_2020_df['gene_name'] = [str(x) for x in Buggert_2020_df['gene_name']]\n",
    "\n",
    "CD69pos_CD69neg_up = Buggert_2020_df[Buggert_2020_df['CD69+_CD69-_log2fc'] >= 1]\n",
    "CD69pos_CD69neg_dn = Buggert_2020_df[Buggert_2020_df['CD69+_CD69-_log2fc'] <= -1]\n",
    "CD69pos_CD69neg_up = Buggert_2020_df[Buggert_2020_df['pval'] <= 0.05][\"gene_name\"].values.tolist()\n",
    "CD69pos_CD69neg_dn = Buggert_2020_df[Buggert_2020_df['pval'] <= 0.05][\"gene_name\"].values.tolist()\n",
    "\n",
    "CD69pos_CD69neg_up =  [x.replace(u'\\xa0', u'') for x in CD69pos_CD69neg_up]\n",
    "CD69pos_CD69neg_dn =  [x.replace(u'\\xa0', u'') for x in CD69pos_CD69neg_dn]\n",
    "\n",
    "CD69pos_CD69neg_up = [x for x in CD69pos_CD69neg_up if x != \"#N/A\"]\n",
    "CD69pos_CD69neg_dn = [x for x in CD69pos_CD69neg_dn if x != \"#N/A\"]\n",
    "\n",
    "gs_name = [\"CD69pos_CD69neg_up\" for x in CD69pos_CD69neg_up] + [\"CD69pos_CD69neg_dn\" for x in CD69pos_CD69neg_dn]\n",
    "gene_symbol = CD69pos_CD69neg_up + CD69pos_CD69neg_dn\n",
    "\n",
    "Buggert_2020_sig_df = pd.DataFrame({\"gs_name\": gs_name, \"gene_symbol\": gene_symbol})\n",
    "Buggert_2020_sig_df.to_csv(\"2018_SCI_IMMUNOL_Buggert_signatures.csv\", index=False)"
   ]
  },
  {
   "cell_type": "code",
   "execution_count": 50,
   "metadata": {},
   "outputs": [],
   "source": [
    "###----- 2019_JCI_Tian\n",
    "tian_2019_path = '/Volumes/Huitian/Projects/SARS2_Sc/z_References/0_Downloads_PreProcessed/CD8/2019_JCI_Tian'\n",
    "tian_2019_files = glob.glob(\"%s/*.csv\"%tian_2019_path)\n",
    "\n",
    "gs_name = []\n",
    "gene_symbol = []\n",
    "for i in tian_2019_files:\n",
    "    i_df = pd.read_csv(i)\n",
    "    i_name = i.split(\"/\")[-1].replace(\".csv\", \"\")\n",
    "    i_df = pd.read_csv(i)\n",
    "    gene_symbol = gene_symbol + i_df['SYMBOL'].tolist()\n",
    "    gs_name = gs_name + [i_name for x in range(0, len(i_df))]\n",
    "\n",
    "tian_2019_sig_df = pd.DataFrame({\"gs_name\": gs_name, \"gene_symbol\": gene_symbol})\n",
    "tian_2019_sig_df.to_csv(\"2019_JCI_Tian_signatures.csv\", index=False)"
   ]
  },
  {
   "cell_type": "markdown",
   "metadata": {},
   "source": [
    "## 3. Analyzed GEO datasets"
   ]
  },
  {
   "cell_type": "code",
   "execution_count": 3,
   "metadata": {},
   "outputs": [],
   "source": [
    "deseq_outdir = base_dir + \"/z_References/2_DEseq_out\"\n",
    "geo_outdir = \"/Volumes/Huitian/Projects/SARS2_Sc/z_References/9_Formatted_csv/GEO\""
   ]
  },
  {
   "cell_type": "code",
   "execution_count": 4,
   "metadata": {},
   "outputs": [],
   "source": [
    "def sig_list(inDf, padjCutoff, pvalCutoff, fc):\n",
    "    inDf_sig = inDf[inDf['padj'] <= padjCutoff]\n",
    "    inDf_sig = inDf_sig[inDf_sig['pvalue'] <= pvalCutoff]\n",
    "    inDf_sig_up = inDf_sig[inDf_sig['log2FoldChange'] >= fc]['gene_name'].values.tolist()\n",
    "    inDf_sig_dn = inDf_sig[inDf_sig['log2FoldChange'] <= -fc]['gene_name'].values.tolist()\n",
    "    inDf_sig_up = [x for x in inDf_sig_up if str(x) != 'nan']\n",
    "    inDf_sig_dn = [x for x in inDf_sig_dn if str(x) != 'nan']\n",
    "    print(\"Up: \", len(inDf_sig_up))\n",
    "    print(\"Dn: \", len(inDf_sig_dn))\n",
    "    return(inDf_sig_up, inDf_sig_dn) "
   ]
  },
  {
   "cell_type": "markdown",
   "metadata": {},
   "source": [
    "### 3.1 2016_IMMUNITY_De_Simone [Human]"
   ]
  },
  {
   "cell_type": "code",
   "execution_count": 5,
   "metadata": {},
   "outputs": [
    {
     "data": {
      "text/plain": [
       "['/Volumes/Huitian/Projects/SARS2_Sc/z_References/2_DEseq_out/2016_IMMUNITY_De_Simone_Th17_vs_Treg_gn.csv',\n",
       " '/Volumes/Huitian/Projects/SARS2_Sc/z_References/2_DEseq_out/2016_IMMUNITY_De_Simone_Th1_vs_Th17_gn.csv',\n",
       " '/Volumes/Huitian/Projects/SARS2_Sc/z_References/2_DEseq_out/2016_IMMUNITY_De_Simone_Th1_vs_Treg_gn.csv']"
      ]
     },
     "execution_count": 5,
     "metadata": {},
     "output_type": "execute_result"
    }
   ],
   "source": [
    "batch = \"2016_IMMUNITY_De_Simone\"\n",
    "batch_de_files = glob.glob(\"%s/%s*gn.csv\"%(deseq_outdir,batch))\n",
    "batch_de_files"
   ]
  },
  {
   "cell_type": "code",
   "execution_count": 8,
   "metadata": {},
   "outputs": [
    {
     "name": "stdout",
     "output_type": "stream",
     "text": [
      "Up:  1236\n",
      "Dn:  841\n",
      "Up:  395\n",
      "Dn:  256\n",
      "Up:  1459\n",
      "Dn:  892\n",
      "Th17 : 102\n",
      "Th1 : 179\n",
      "Treg : 570\n"
     ]
    }
   ],
   "source": [
    "Th17_vs_Treg = pd.read_csv('/Volumes/Huitian/Projects/SARS2_Sc/z_References/2_DEseq_out/2016_IMMUNITY_De_Simone_Th17_vs_Treg_gn.csv')\n",
    "Th1_vs_Th17 = pd.read_csv('/Volumes/Huitian/Projects/SARS2_Sc/z_References/2_DEseq_out/2016_IMMUNITY_De_Simone_Th1_vs_Th17_gn.csv')\n",
    "Th1_vs_Treg = pd.read_csv('/Volumes/Huitian/Projects/SARS2_Sc/z_References/2_DEseq_out/2016_IMMUNITY_De_Simone_Th1_vs_Treg_gn.csv')\n",
    "\n",
    "Th17_vs_Treg_up, Th17_vs_Treg_dn = sig_list(Th17_vs_Treg, padjCutoff=1, pvalCutoff=0.05, fc=1)\n",
    "Th1_vs_Th17_up, Th1_vs_Th17_dn = sig_list(Th1_vs_Th17, padjCutoff=1, pvalCutoff=0.05, fc=1)\n",
    "Th1_vs_Treg_up, Th1_vs_Treg_dn = sig_list(Th1_vs_Treg, padjCutoff=1, pvalCutoff=0.05, fc=1)\n",
    "\n",
    "Th17_genes = list(set(Th17_vs_Treg_up).intersection(set(Th1_vs_Th17_dn)))\n",
    "print(\"Th17 :\", len(Th17_genes))\n",
    "Th1_genes = list(set(Th1_vs_Th17_up).intersection(set(Th1_vs_Treg_up)))\n",
    "print(\"Th1 :\", len(Th1_genes))\n",
    "Treg_genes = list(set(Th17_vs_Treg_dn).intersection(set(Th1_vs_Treg_dn)))\n",
    "print(\"Treg :\", len(Treg_genes))\n",
    "\n",
    "gs_name = [\"Th17_vs_Th1-or-Treg\" for x in Th17_genes] \\\n",
    "        + [\"Th1_vs_Th17-or-Treg\" for x in Th1_genes] \\\n",
    "        + [\"Treg_vs_Th1-or-Th17\" for x in Treg_genes]\n",
    "\n",
    "gene_symbol = Th17_genes + Th1_genes + Treg_genes\n",
    "\n",
    "df = pd.DataFrame({\"gs_name\": gs_name, \"gene_symbol\": gene_symbol})\n",
    "df.to_csv(\"%s/%s_signatures.csv\"%(geo_outdir,batch), index=False)"
   ]
  },
  {
   "cell_type": "markdown",
   "metadata": {},
   "source": [
    "### 3.2 2017_CELL_REP_Kumar [Human]"
   ]
  },
  {
   "cell_type": "code",
   "execution_count": 9,
   "metadata": {},
   "outputs": [
    {
     "data": {
      "text/plain": [
       "['/Volumes/Huitian/Projects/SARS2_Sc/z_References/2_DEseq_out/2017_CELL_REP_Kumar_CD4LungCD69pos_vs_CD4LungCD69neg_gn.csv',\n",
       " '/Volumes/Huitian/Projects/SARS2_Sc/z_References/2_DEseq_out/2017_CELL_REP_Kumar_CD4SpleenCD69pos_vs_CD4SpleenCD69neg_gn.csv',\n",
       " '/Volumes/Huitian/Projects/SARS2_Sc/z_References/2_DEseq_out/2017_CELL_REP_Kumar_CD8LungCD69pos_vs_CD8LungCD69neg_gn.csv',\n",
       " '/Volumes/Huitian/Projects/SARS2_Sc/z_References/2_DEseq_out/2017_CELL_REP_Kumar_CD8SpleenCD69pos_vs_CD8SpleenCD69neg_gn.csv']"
      ]
     },
     "execution_count": 9,
     "metadata": {},
     "output_type": "execute_result"
    }
   ],
   "source": [
    "batch = \"2017_CELL_REP_Kumar\"\n",
    "batch_de_files = glob.glob(\"%s/%s*gn.csv\"%(deseq_outdir,batch))\n",
    "batch_de_files"
   ]
  },
  {
   "cell_type": "code",
   "execution_count": 19,
   "metadata": {},
   "outputs": [
    {
     "name": "stdout",
     "output_type": "stream",
     "text": [
      "Up:  402\n",
      "Dn:  280\n",
      "Up:  286\n",
      "Dn:  574\n",
      "Up:  301\n",
      "Dn:  301\n",
      "Up:  120\n",
      "Dn:  268\n"
     ]
    }
   ],
   "source": [
    "CD4LungCD69pos_vs_CD4LungCD69neg = pd.read_csv('/Volumes/Huitian/Projects/SARS2_Sc/z_References/2_DEseq_out/2017_CELL_REP_Kumar_CD4LungCD69pos_vs_CD4LungCD69neg_gn.csv')\n",
    "CD4SpleenCD69pos_vs_CD4SpleenCD69neg = pd.read_csv('/Volumes/Huitian/Projects/SARS2_Sc/z_References/2_DEseq_out/2017_CELL_REP_Kumar_CD4SpleenCD69pos_vs_CD4SpleenCD69neg_gn.csv')\n",
    "CD8LungCD69pos_vs_CD8LungCD69neg = pd.read_csv('/Volumes/Huitian/Projects/SARS2_Sc/z_References/2_DEseq_out/2017_CELL_REP_Kumar_CD8LungCD69pos_vs_CD8LungCD69neg_gn.csv')\n",
    "CD8SpleenCD69pos_vs_CD8SpleenCD69neg = pd.read_csv('/Volumes/Huitian/Projects/SARS2_Sc/z_References/2_DEseq_out/2017_CELL_REP_Kumar_CD8SpleenCD69pos_vs_CD8SpleenCD69neg_gn.csv')\n",
    "\n",
    "CD4LungCD69pos_vs_CD4LungCD69neg_up, CD4LungCD69pos_vs_CD4LungCD69neg_dn = sig_list(CD4LungCD69pos_vs_CD4LungCD69neg, padjCutoff=1, pvalCutoff=0.05, fc=1)\n",
    "CD4SpleenCD69pos_vs_CD4SpleenCD69neg_up, CD4SpleenCD69pos_vs_CD4SpleenCD69neg_dn = sig_list(CD4SpleenCD69pos_vs_CD4SpleenCD69neg, padjCutoff=1, pvalCutoff=0.05, fc=1)\n",
    "CD8LungCD69pos_vs_CD8LungCD69neg_up, CD8LungCD69pos_vs_CD8LungCD69neg_dn = sig_list(CD8LungCD69pos_vs_CD8LungCD69neg, padjCutoff=1, pvalCutoff=0.05, fc=1)\n",
    "CD8SpleenCD69pos_vs_CD8SpleenCD69neg_up, CD8SpleenCD69pos_vs_CD8SpleenCD69neg_dn = sig_list(CD8SpleenCD69pos_vs_CD8SpleenCD69neg, padjCutoff=1, pvalCutoff=0.05, fc=1)\n",
    "\n",
    "gs_name = [\"CD4Lung_CD69pos_vs_neg_up\" for x in CD4LungCD69pos_vs_CD4LungCD69neg_up] \\\n",
    "        + [\"CD4Lung_CD69pos_vs_neg_dn\" for x in CD4LungCD69pos_vs_CD4LungCD69neg_dn] \\\n",
    "        + [\"CD4Spleen_CD69pos_vs_neg_up\" for x in CD4SpleenCD69pos_vs_CD4SpleenCD69neg_up] \\\n",
    "        + [\"CD4Spleen_CD69pos_vs_neg_dn\" for x in CD4SpleenCD69pos_vs_CD4SpleenCD69neg_dn] \\\n",
    "        + [\"CD8Lung_CD69pos_vs_neg_up\" for x in CD8LungCD69pos_vs_CD8LungCD69neg_up] \\\n",
    "        + [\"CD8Lung_CD69pos_vs_neg_dn\" for x in CD8LungCD69pos_vs_CD8LungCD69neg_dn] \\\n",
    "        + [\"CD8Spleen_CD69pos_vs_neg_up\" for x in CD8SpleenCD69pos_vs_CD8SpleenCD69neg_up] \\\n",
    "        + [\"CD8Spleen_CD69pos_vs_neg_dn\" for x in CD8SpleenCD69pos_vs_CD8SpleenCD69neg_dn] \\\n",
    "\n",
    "gene_symbol = CD4LungCD69pos_vs_CD4LungCD69neg_up + CD4LungCD69pos_vs_CD4LungCD69neg_dn \\\n",
    "            + CD4SpleenCD69pos_vs_CD4SpleenCD69neg_up + CD4SpleenCD69pos_vs_CD4SpleenCD69neg_dn \\\n",
    "            + CD8LungCD69pos_vs_CD8LungCD69neg_up + CD8LungCD69pos_vs_CD8LungCD69neg_dn \\\n",
    "            + CD8SpleenCD69pos_vs_CD8SpleenCD69neg_up + CD8SpleenCD69pos_vs_CD8SpleenCD69neg_dn\n",
    "\n",
    "df = pd.DataFrame({\"gs_name\": gs_name, \"gene_symbol\": gene_symbol})\n",
    "df.to_csv(\"%s/%s_signatures.csv\"%(geo_outdir,batch), index=False)"
   ]
  },
  {
   "cell_type": "markdown",
   "metadata": {},
   "source": [
    "### 3.3 2017_NAT_Akondy [Human]"
   ]
  },
  {
   "cell_type": "code",
   "execution_count": 20,
   "metadata": {},
   "outputs": [
    {
     "data": {
      "text/plain": [
       "['/Volumes/Huitian/Projects/SARS2_Sc/z_References/2_DEseq_out/2017_NAT_Akondy_MEM_vs_NAV_gn.csv',\n",
       " '/Volumes/Huitian/Projects/SARS2_Sc/z_References/2_DEseq_out/2017_NAT_Akondy_YFV-D14_vs_MEM_gn.csv',\n",
       " '/Volumes/Huitian/Projects/SARS2_Sc/z_References/2_DEseq_out/2017_NAT_Akondy_YFV-D14_vs_NAV_gn.csv']"
      ]
     },
     "execution_count": 20,
     "metadata": {},
     "output_type": "execute_result"
    }
   ],
   "source": [
    "batch = \"2017_NAT_Akondy\"\n",
    "batch_de_files = glob.glob(\"%s/%s*gn.csv\"%(deseq_outdir,batch))\n",
    "batch_de_files"
   ]
  },
  {
   "cell_type": "code",
   "execution_count": 35,
   "metadata": {},
   "outputs": [
    {
     "name": "stdout",
     "output_type": "stream",
     "text": [
      "Up:  806\n",
      "Dn:  506\n",
      "Up:  1248\n",
      "Dn:  1430\n",
      "Up:  1737\n",
      "Dn:  1777\n",
      "MEM:  259\n",
      "NAV:  297\n",
      "D14:  943\n"
     ]
    }
   ],
   "source": [
    "MEM_vs_NAV = pd.read_csv('/Volumes/Huitian/Projects/SARS2_Sc/z_References/2_DEseq_out/2017_NAT_Akondy_MEM_vs_NAV_gn.csv')\n",
    "D14_vs_MEM = pd.read_csv('/Volumes/Huitian/Projects/SARS2_Sc/z_References/2_DEseq_out/2017_NAT_Akondy_YFV-D14_vs_MEM_gn.csv')\n",
    "D14_vs_NAV = pd.read_csv('/Volumes/Huitian/Projects/SARS2_Sc/z_References/2_DEseq_out/2017_NAT_Akondy_YFV-D14_vs_NAV_gn.csv')\n",
    "\n",
    "MEM_vs_NAV_up, MEM_vs_NAV_dn = sig_list(MEM_vs_NAV, padjCutoff=0.05, pvalCutoff=1, fc=1)\n",
    "D14_vs_MEM_up, D14_vs_MEM_dn = sig_list(D14_vs_MEM, padjCutoff=0.05, pvalCutoff=1, fc=1)\n",
    "D14_vs_NAV_up, D14_vs_NAV_dn = sig_list(D14_vs_NAV, padjCutoff=0.05, pvalCutoff=1, fc=1)\n",
    "\n",
    "MEM_sig = list(set(MEM_vs_NAV_up).intersection(set(D14_vs_MEM_dn)))\n",
    "print(\"MEM: \", len(MEM_sig))\n",
    "NAV_sig = list(set(MEM_vs_NAV_dn).intersection(set(D14_vs_NAV_dn)))\n",
    "print(\"NAV: \", len(NAV_sig))\n",
    "D14_sig = list(set(D14_vs_MEM_up).intersection(set(D14_vs_NAV_up)))\n",
    "print(\"D14: \", len(D14_sig))\n",
    "\n",
    "gs_name = [\"YFV_MEM\" for x in MEM_sig] + [\"NAV\" for x in NAV_sig] + [\"YFV_D14\" for x in D14_sig]\n",
    "gene_symbol = MEM_sig + NAV_sig + D14_sig\n",
    "\n",
    "df = pd.DataFrame({\"gs_name\": gs_name, \"gene_symbol\": gene_symbol})\n",
    "df.to_csv(\"%s/%s_signatures.csv\"%(geo_outdir,batch), index=False)"
   ]
  },
  {
   "cell_type": "markdown",
   "metadata": {},
   "source": [
    "### 3.4 2019_EJI_Remmerswaal [Human]"
   ]
  },
  {
   "cell_type": "code",
   "execution_count": 36,
   "metadata": {},
   "outputs": [
    {
     "data": {
      "text/plain": [
       "['/Volumes/Huitian/Projects/SARS2_Sc/z_References/2_DEseq_out/2019_EJI_Remmerswaal_DP_vs_EE_gn.csv',\n",
       " '/Volumes/Huitian/Projects/SARS2_Sc/z_References/2_DEseq_out/2019_EJI_Remmerswaal_DP_vs_MP_gn.csv',\n",
       " '/Volumes/Huitian/Projects/SARS2_Sc/z_References/2_DEseq_out/2019_EJI_Remmerswaal_DP_vs_TE_gn.csv',\n",
       " '/Volumes/Huitian/Projects/SARS2_Sc/z_References/2_DEseq_out/2019_EJI_Remmerswaal_EE_vs_MP_gn.csv',\n",
       " '/Volumes/Huitian/Projects/SARS2_Sc/z_References/2_DEseq_out/2019_EJI_Remmerswaal_EE_vs_TE_gn.csv',\n",
       " '/Volumes/Huitian/Projects/SARS2_Sc/z_References/2_DEseq_out/2019_EJI_Remmerswaal_MP_vs_TE_gn.csv']"
      ]
     },
     "execution_count": 36,
     "metadata": {},
     "output_type": "execute_result"
    }
   ],
   "source": [
    "batch = \"2019_EJI_Remmerswaal\"\n",
    "batch_de_files = glob.glob(\"%s/%s*gn.csv\"%(deseq_outdir,batch))\n",
    "batch_de_files"
   ]
  },
  {
   "cell_type": "code",
   "execution_count": 46,
   "metadata": {},
   "outputs": [
    {
     "name": "stdout",
     "output_type": "stream",
     "text": [
      "Up:  1527\n",
      "Dn:  1114\n",
      "Up:  963\n",
      "Dn:  910\n",
      "Up:  1067\n",
      "Dn:  665\n",
      "Up:  882\n",
      "Dn:  1403\n",
      "Up:  979\n",
      "Dn:  1177\n",
      "Up:  1486\n",
      "Dn:  1040\n",
      "DP:  159\n",
      "EE:  164\n",
      "MP:  114\n",
      "TE:  128\n"
     ]
    }
   ],
   "source": [
    "DP_vs_EE = pd.read_csv('/Volumes/Huitian/Projects/SARS2_Sc/z_References/2_DEseq_out/2019_EJI_Remmerswaal_DP_vs_EE_gn.csv')\n",
    "DP_vs_MP = pd.read_csv('/Volumes/Huitian/Projects/SARS2_Sc/z_References/2_DEseq_out/2019_EJI_Remmerswaal_DP_vs_MP_gn.csv')\n",
    "DP_vs_TE = pd.read_csv('/Volumes/Huitian/Projects/SARS2_Sc/z_References/2_DEseq_out/2019_EJI_Remmerswaal_DP_vs_TE_gn.csv')\n",
    "EE_vs_MP = pd.read_csv('/Volumes/Huitian/Projects/SARS2_Sc/z_References/2_DEseq_out/2019_EJI_Remmerswaal_EE_vs_MP_gn.csv')\n",
    "EE_vs_TE = pd.read_csv('/Volumes/Huitian/Projects/SARS2_Sc/z_References/2_DEseq_out/2019_EJI_Remmerswaal_EE_vs_TE_gn.csv')\n",
    "MP_vs_TE = pd.read_csv('/Volumes/Huitian/Projects/SARS2_Sc/z_References/2_DEseq_out/2019_EJI_Remmerswaal_MP_vs_TE_gn.csv')\n",
    "\n",
    "DP_vs_EE_up, DP_vs_EE_dn = sig_list(DP_vs_EE, padjCutoff=1, pvalCutoff=0.05, fc=0)\n",
    "DP_vs_MP_up, DP_vs_MP_dn = sig_list(DP_vs_MP, padjCutoff=1, pvalCutoff=0.05, fc=0)\n",
    "DP_vs_TE_up, DP_vs_TE_dn = sig_list(DP_vs_TE, padjCutoff=1, pvalCutoff=0.05, fc=0)\n",
    "EE_vs_MP_up, EE_vs_MP_dn = sig_list(EE_vs_MP, padjCutoff=1, pvalCutoff=0.05, fc=0)\n",
    "EE_vs_TE_up, EE_vs_TE_dn = sig_list(EE_vs_TE, padjCutoff=1, pvalCutoff=0.05, fc=0)\n",
    "MP_vs_TE_up, MP_vs_TE_dn = sig_list(MP_vs_TE, padjCutoff=1, pvalCutoff=0.05, fc=0)\n",
    "\n",
    "DP_sig = list(set(DP_vs_EE_up).intersection(set(DP_vs_MP_up)).intersection(DP_vs_TE_up))\n",
    "print(\"DP: \", len(DP_sig))\n",
    "EE_sig = list(set(DP_vs_EE_dn).intersection(set(EE_vs_MP_up)).intersection(EE_vs_TE_up))\n",
    "print(\"EE: \", len(EE_sig))\n",
    "MP_sig = list(set(DP_vs_MP_dn).intersection(set(EE_vs_MP_dn)).intersection(MP_vs_TE_up))\n",
    "print(\"MP: \", len(MP_sig))\n",
    "TE_sig = list(set(DP_vs_TE_dn).intersection(set(EE_vs_TE_dn)).intersection(MP_vs_TE_dn))\n",
    "print(\"TE: \", len(TE_sig))\n",
    "\n",
    "gs_name = [\"DP\" for x in DP_sig] + [\"EE\" for x in EE_sig] + [\"MP\" for x in MP_sig] + [\"TE\" for x in TE_sig]\n",
    "gene_symbol = DP_sig + EE_sig + MP_sig + TE_sig\n",
    "\n",
    "df = pd.DataFrame({\"gs_name\": gs_name, \"gene_symbol\": gene_symbol})\n",
    "df.to_csv(\"%s/%s_signatures.csv\"%(geo_outdir,batch), index=False)"
   ]
  },
  {
   "cell_type": "markdown",
   "metadata": {},
   "source": [
    "### 3.5 2019_NAT_IMMUNOL_Nakayama [Mouse]"
   ]
  },
  {
   "cell_type": "code",
   "execution_count": 63,
   "metadata": {},
   "outputs": [
    {
     "data": {
      "text/plain": [
       "['/Volumes/Huitian/Projects/SARS2_Sc/z_References/2_DEseq_out/2019_NAT_IMMUNOL_Nakayama_CirCD44hi_vs_CirCD44lo_gn.csv',\n",
       " '/Volumes/Huitian/Projects/SARS2_Sc/z_References/2_DEseq_out/2019_NAT_IMMUNOL_Nakayama_CirCD44lo_vs_CirCD44loFoxp3KO_gn.csv',\n",
       " '/Volumes/Huitian/Projects/SARS2_Sc/z_References/2_DEseq_out/2019_NAT_IMMUNOL_Nakayama_LungTRM_vs_CirCD44hi_gn.csv',\n",
       " '/Volumes/Huitian/Projects/SARS2_Sc/z_References/2_DEseq_out/2019_NAT_IMMUNOL_Nakayama_LungTRM_vs_CirCD44lo_gn.csv',\n",
       " '/Volumes/Huitian/Projects/SARS2_Sc/z_References/2_DEseq_out/2019_NAT_IMMUNOL_Nakayama_LungTRM_vs_LungTRMFoxp3KO_gn.csv',\n",
       " '/Volumes/Huitian/Projects/SARS2_Sc/z_References/2_DEseq_out/2019_NAT_IMMUNOL_Nakayama_LungTRreg_vs_CirCD44hi_gn.csv',\n",
       " '/Volumes/Huitian/Projects/SARS2_Sc/z_References/2_DEseq_out/2019_NAT_IMMUNOL_Nakayama_LungTRreg_vs_CirCD44lo_gn.csv',\n",
       " '/Volumes/Huitian/Projects/SARS2_Sc/z_References/2_DEseq_out/2019_NAT_IMMUNOL_Nakayama_LungTRreg_vs_LungTRM_gn.csv',\n",
       " '/Volumes/Huitian/Projects/SARS2_Sc/z_References/2_DEseq_out/2019_NAT_IMMUNOL_Nakayama_LungTRreg_vs_LungTRregFoxp3KO_gn.csv']"
      ]
     },
     "execution_count": 63,
     "metadata": {},
     "output_type": "execute_result"
    }
   ],
   "source": [
    "batch = \"2019_NAT_IMMUNOL_Nakayama\"\n",
    "batch_de_files = glob.glob(\"%s/%s*gn.csv\"%(deseq_outdir,batch))\n",
    "batch_de_files"
   ]
  },
  {
   "cell_type": "code",
   "execution_count": 87,
   "metadata": {},
   "outputs": [
    {
     "name": "stdout",
     "output_type": "stream",
     "text": [
      "Up:  799\n",
      "Dn:  670\n",
      "Up:  433\n",
      "Dn:  357\n",
      "Up:  420\n",
      "Dn:  5427\n",
      "Up:  592\n",
      "Dn:  235\n",
      "Up:  329\n",
      "Dn:  312\n",
      "Up:  823\n",
      "Dn:  382\n",
      "Up:  1572\n",
      "Dn:  1038\n",
      "Lung TRreg:  504\n",
      "Up:  645\n",
      "Dn:  202\n",
      "Up:  1430\n",
      "Dn:  967\n",
      "Lung TRM:  394\n"
     ]
    }
   ],
   "source": [
    "CirCD44hi_vs_CirCD44lo = pd.read_csv('/Volumes/Huitian/Projects/SARS2_Sc/z_References/2_DEseq_out/2019_NAT_IMMUNOL_Nakayama_CirCD44hi_vs_CirCD44lo_gn.csv')\n",
    "CirCD44lo_vs_CirCD44loFoxp3KO_gn = pd.read_csv('/Volumes/Huitian/Projects/SARS2_Sc/z_References/2_DEseq_out/2019_NAT_IMMUNOL_Nakayama_CirCD44lo_vs_CirCD44loFoxp3KO_gn.csv')\n",
    "LungTRM_vs_LungTRMFoxp3KO = pd.read_csv('/Volumes/Huitian/Projects/SARS2_Sc/z_References/2_DEseq_out/2019_NAT_IMMUNOL_Nakayama_LungTRM_vs_LungTRMFoxp3KO_gn.csv')\n",
    "LungTRreg_vs_CirCD44hi = pd.read_csv('/Volumes/Huitian/Projects/SARS2_Sc/z_References/2_DEseq_out/2019_NAT_IMMUNOL_Nakayama_LungTRreg_vs_CirCD44hi_gn.csv')\n",
    "LungTRreg_vs_CirCD44lo = pd.read_csv('/Volumes/Huitian/Projects/SARS2_Sc/z_References/2_DEseq_out/2019_NAT_IMMUNOL_Nakayama_LungTRreg_vs_CirCD44lo_gn.csv')\n",
    "LungTRM_vs_CirCD44hi = pd.read_csv('/Volumes/Huitian/Projects/SARS2_Sc/z_References/2_DEseq_out/2019_NAT_IMMUNOL_Nakayama_LungTRM_vs_CirCD44hi_gn.csv')\n",
    "LungTRM_vs_CirCD44lo = pd.read_csv('/Volumes/Huitian/Projects/SARS2_Sc/z_References/2_DEseq_out/2019_NAT_IMMUNOL_Nakayama_LungTRM_vs_CirCD44lo_gn.csv')\n",
    "LungTRreg_vs_LungTRM = pd.read_csv('/Volumes/Huitian/Projects/SARS2_Sc/z_References/2_DEseq_out/2019_NAT_IMMUNOL_Nakayama_LungTRreg_vs_LungTRM_gn.csv')\n",
    "LungTRreg_vs_LungTRregFoxp3KO = pd.read_csv('/Volumes/Huitian/Projects/SARS2_Sc/z_References/2_DEseq_out/2019_NAT_IMMUNOL_Nakayama_LungTRreg_vs_LungTRregFoxp3KO_gn.csv')\n",
    "\n",
    "Cir_CD44hi_vs_CD44lo_up, Cir_CD44hi_vs_CD44lo_dn = sig_list(CirCD44hi_vs_CirCD44lo, padjCutoff=1, pvalCutoff=0.05, fc=1)\n",
    "Cir_CD44lo_Foxp3Promoted, Cir_CD44lo_Foxp3Inhibited = sig_list(CirCD44lo_vs_CirCD44loFoxp3KO_gn, padjCutoff=1, pvalCutoff=0.05, fc=1)\n",
    "LungTRM_Foxp3Promoted, LungTRM_Foxp3Inhibited = sig_list(LungTRM_vs_LungTRMFoxp3KO, padjCutoff=1, pvalCutoff=0.05, fc=1)\n",
    "LungTRreg_Foxp3Promoted, LungTRreg_Foxp3Inhibited = sig_list(LungTRreg_vs_LungTRregFoxp3KO, padjCutoff=1, pvalCutoff=0.05, fc=1)\n",
    "LungTRreg_vs_LungTRM_up, LungTRreg_vs_LungTRM_dn = sig_list(LungTRreg_vs_LungTRM, padjCutoff=1, pvalCutoff=0.05, fc=1)\n",
    "\n",
    "LungTRreg_vs_CirCD44hi_up, LungTRreg_vs_CirCD44hi_dn = sig_list(LungTRreg_vs_CirCD44hi, padjCutoff=1, pvalCutoff=0.05, fc=1)\n",
    "LungTRreg_vs_CirCD44lo_up, LungTRreg_vs_CirCD44lo_dn = sig_list(LungTRreg_vs_CirCD44lo, padjCutoff=1, pvalCutoff=0.05, fc=1)\n",
    "LungTRreg_sig = list(set(LungTRreg_vs_CirCD44hi_up).intersection(set(LungTRreg_vs_CirCD44lo_up)))\n",
    "print(\"Lung TRreg: \", len(LungTRreg_sig))\n",
    "\n",
    "LungTRM_vs_CirCD44hi_up, LungTRM_vs_CirCD44hi_dn = sig_list(LungTRM_vs_CirCD44hi, padjCutoff=1, pvalCutoff=0.05, fc=1)\n",
    "LungTRM_vs_CirCD44lo_up, LungTRM_vs_CirCD44lo_dn = sig_list(LungTRM_vs_CirCD44lo, padjCutoff=1, pvalCutoff=0.05, fc=1)\n",
    "LungTRM_sig = list(set(LungTRM_vs_CirCD44hi_up).intersection(set(LungTRM_vs_CirCD44lo_up)))\n",
    "print(\"Lung TRM: \", len(LungTRM_sig))\n",
    "\n",
    "gs_name = [\"Cir_CD44hi_vs_CD44lo_up\" for x in Cir_CD44hi_vs_CD44lo_up] \\\n",
    "        + [\"Cir_CD44hi_vs_CD44lo_dn\" for x in Cir_CD44hi_vs_CD44lo_dn] \\\n",
    "        + [\"Cir_CD44lo_Foxp3Promoted\" for x in Cir_CD44lo_Foxp3Promoted] \\\n",
    "        + [\"Cir_CD44lo_Foxp3Inhibited\" for x in Cir_CD44lo_Foxp3Inhibited] \\\n",
    "        + [\"LungTRM_Foxp3Promoted\" for x in LungTRM_Foxp3Promoted] \\\n",
    "        + [\"LungTRM_Foxp3Inhibited\" for x in LungTRM_Foxp3Inhibited] \\\n",
    "        + [\"LungTRreg_Foxp3Promoted\" for x in LungTRreg_Foxp3Promoted] \\\n",
    "        + [\"LungTRreg_Foxp3Inhibited\" for x in LungTRreg_Foxp3Inhibited] \\\n",
    "        + [\"LungTRreg_vs_LungTRM_up\" for x in LungTRreg_vs_LungTRM_up] \\\n",
    "        + [\"LungTRreg_vs_LungTRM_dn\" for x in LungTRreg_vs_LungTRM_dn] \\\n",
    "        + [\"LungTRreg\" for x in LungTRreg_sig] + [\"LungTRM\" for x in LungTRM_sig]\n",
    "\n",
    "gene_symbol = Cir_CD44hi_vs_CD44lo_up + Cir_CD44hi_vs_CD44lo_dn \\\n",
    "            + Cir_CD44lo_Foxp3Promoted + Cir_CD44lo_Foxp3Inhibited \\\n",
    "            + LungTRM_Foxp3Promoted + LungTRM_Foxp3Inhibited \\\n",
    "            + LungTRreg_Foxp3Promoted + LungTRreg_Foxp3Inhibited \\\n",
    "            + LungTRreg_vs_LungTRM_up + LungTRreg_vs_LungTRM_dn \\\n",
    "            + LungTRreg_sig + LungTRM_sig\n",
    "\n",
    "df = pd.DataFrame({\"gs_name\": gs_name, \"gene_symbol\": gene_symbol})\n",
    "df.to_csv(\"%s/%s_signatures_mouse.csv\"%(geo_outdir,batch), index=False)"
   ]
  },
  {
   "cell_type": "markdown",
   "metadata": {},
   "source": [
    "### 3.6 2020_NAT_IMMUNOL_Hayward [Mouse]"
   ]
  },
  {
   "cell_type": "code",
   "execution_count": 99,
   "metadata": {},
   "outputs": [
    {
     "data": {
      "text/plain": [
       "['/Volumes/Huitian/Projects/SARS2_Sc/z_References/2_DEseq_out/2020_NAT_IMMUNOL_Hayward_GSE118111_AirwayTRM_vs_ParenchymaTRM_gn.csv',\n",
       " '/Volumes/Huitian/Projects/SARS2_Sc/z_References/2_DEseq_out/2020_NAT_IMMUNOL_Hayward_GSE118111_AirwayTRM_vs_SpleenTCM_gn.csv',\n",
       " '/Volumes/Huitian/Projects/SARS2_Sc/z_References/2_DEseq_out/2020_NAT_IMMUNOL_Hayward_GSE118111_ParenchymaTRM_vs_SpleenTCM_gn.csv']"
      ]
     },
     "execution_count": 99,
     "metadata": {},
     "output_type": "execute_result"
    }
   ],
   "source": [
    "###----- _GSE118111\n",
    "batch = \"2020_NAT_IMMUNOL_Hayward_GSE118111\"\n",
    "batch_de_files = glob.glob(\"%s/%s*gn.csv\"%(deseq_outdir,batch))\n",
    "batch_de_files"
   ]
  },
  {
   "cell_type": "code",
   "execution_count": 100,
   "metadata": {},
   "outputs": [
    {
     "name": "stdout",
     "output_type": "stream",
     "text": [
      "Up:  574\n",
      "Dn:  605\n",
      "Up:  743\n",
      "Dn:  2067\n",
      "Up:  420\n",
      "Dn:  666\n",
      "Airway TRM:  215\n",
      "Spleen TCM:  312\n",
      "Parenchyma TRM:  88\n"
     ]
    }
   ],
   "source": [
    "AirwayTRM_vs_ParenchymaTRM = pd.read_csv('/Volumes/Huitian/Projects/SARS2_Sc/z_References/2_DEseq_out/2020_NAT_IMMUNOL_Hayward_GSE118111_AirwayTRM_vs_ParenchymaTRM_gn.csv')\n",
    "AirwayTRM_vs_SpleenTCM = pd.read_csv('/Volumes/Huitian/Projects/SARS2_Sc/z_References/2_DEseq_out/2020_NAT_IMMUNOL_Hayward_GSE118111_AirwayTRM_vs_SpleenTCM_gn.csv')\n",
    "ParenchymaTRM_vs_SpleenTCM = pd.read_csv('/Volumes/Huitian/Projects/SARS2_Sc/z_References/2_DEseq_out/2020_NAT_IMMUNOL_Hayward_GSE118111_ParenchymaTRM_vs_SpleenTCM_gn.csv')\n",
    "\n",
    "AirwayTRM_vs_ParenchymaTRM_up, AirwayTRM_vs_ParenchymaTRM_dn = sig_list(AirwayTRM_vs_ParenchymaTRM, padjCutoff=1, pvalCutoff=0.05, fc=1)\n",
    "AirwayTRM_vs_SpleenTCM_up, AirwayTRM_vs_SpleenTCM_dn = sig_list(AirwayTRM_vs_SpleenTCM, padjCutoff=1, pvalCutoff=0.05, fc=1)\n",
    "ParenchymaTRM_vs_SpleenTCM_up, ParenchymaTRM_vs_SpleenTCM_dn = sig_list(ParenchymaTRM_vs_SpleenTCM, padjCutoff=1, pvalCutoff=0.05, fc=1)\n",
    "\n",
    "AirwayTRM_sig = list(set(AirwayTRM_vs_ParenchymaTRM_up).intersection(AirwayTRM_vs_SpleenTCM_up))\n",
    "print(\"Airway TRM: \", len(AirwayTRM_sig))\n",
    "SpleenTCM_sig = list(set(AirwayTRM_vs_SpleenTCM_dn).intersection(ParenchymaTRM_vs_SpleenTCM_dn))\n",
    "print(\"Spleen TCM: \", len(SpleenTCM_sig))\n",
    "ParenchymaTRM_sig = list(set(AirwayTRM_vs_ParenchymaTRM_dn).intersection(ParenchymaTRM_vs_SpleenTCM_up))\n",
    "print(\"Parenchyma TRM: \", len(ParenchymaTRM_sig))"
   ]
  },
  {
   "cell_type": "code",
   "execution_count": 101,
   "metadata": {},
   "outputs": [
    {
     "data": {
      "text/plain": [
       "['/Volumes/Huitian/Projects/SARS2_Sc/z_References/2_DEseq_out/2020_NAT_IMMUNOL_Hayward_GSE135504_AirwayTRM_vs_LungIntersitiumTRM_gn.csv',\n",
       " '/Volumes/Huitian/Projects/SARS2_Sc/z_References/2_DEseq_out/2020_NAT_IMMUNOL_Hayward_GSE135504_AirwayTRM_vs_LungVasculatureTRM_gn.csv',\n",
       " '/Volumes/Huitian/Projects/SARS2_Sc/z_References/2_DEseq_out/2020_NAT_IMMUNOL_Hayward_GSE135504_AirwayTRM_vs_SpleenTCM_gn.csv',\n",
       " '/Volumes/Huitian/Projects/SARS2_Sc/z_References/2_DEseq_out/2020_NAT_IMMUNOL_Hayward_GSE135504_LungIntersitiumTRM_vs_LungVasculatureTRM_gn.csv',\n",
       " '/Volumes/Huitian/Projects/SARS2_Sc/z_References/2_DEseq_out/2020_NAT_IMMUNOL_Hayward_GSE135504_LungIntersitiumTRM_vs_SpleenTCM_gn.csv',\n",
       " '/Volumes/Huitian/Projects/SARS2_Sc/z_References/2_DEseq_out/2020_NAT_IMMUNOL_Hayward_GSE135504_LungVasculatureTRM_vs_SpleenTCM_gn.csv']"
      ]
     },
     "execution_count": 101,
     "metadata": {},
     "output_type": "execute_result"
    }
   ],
   "source": [
    "###----- GSE135504\n",
    "batch = \"2020_NAT_IMMUNOL_Hayward_GSE135504\"\n",
    "batch_de_files = glob.glob(\"%s/%s*gn.csv\"%(deseq_outdir,batch))\n",
    "batch_de_files"
   ]
  },
  {
   "cell_type": "code",
   "execution_count": 102,
   "metadata": {},
   "outputs": [],
   "source": [
    "AirwayTRM_vs_LungIntersitiumTRM = pd.read_csv('/Volumes/Huitian/Projects/SARS2_Sc/z_References/2_DEseq_out/2020_NAT_IMMUNOL_Hayward_GSE135504_AirwayTRM_vs_LungIntersitiumTRM_gn.csv')\n",
    "AirwayTRM_vs_LungVasculatureTRM = pd.read_csv('/Volumes/Huitian/Projects/SARS2_Sc/z_References/2_DEseq_out/2020_NAT_IMMUNOL_Hayward_GSE135504_AirwayTRM_vs_LungVasculatureTRM_gn.csv')\n",
    "AirwayTRM_vs_SpleenTCM =  pd.read_csv('/Volumes/Huitian/Projects/SARS2_Sc/z_References/2_DEseq_out/2020_NAT_IMMUNOL_Hayward_GSE135504_AirwayTRM_vs_SpleenTCM_gn.csv')\n",
    "LungIntersitiumTRM_vs_LungVasculatureTRM = pd.read_csv('/Volumes/Huitian/Projects/SARS2_Sc/z_References/2_DEseq_out/2020_NAT_IMMUNOL_Hayward_GSE135504_LungIntersitiumTRM_vs_LungVasculatureTRM_gn.csv')\n",
    "LungIntersitiumTRM_vs_SpleenTCM = pd.read_csv('/Volumes/Huitian/Projects/SARS2_Sc/z_References/2_DEseq_out/2020_NAT_IMMUNOL_Hayward_GSE135504_LungIntersitiumTRM_vs_SpleenTCM_gn.csv')\n",
    "LungVasculatureTRM_vs_SpleenTCM = pd.read_csv('/Volumes/Huitian/Projects/SARS2_Sc/z_References/2_DEseq_out/2020_NAT_IMMUNOL_Hayward_GSE135504_LungVasculatureTRM_vs_SpleenTCM_gn.csv')"
   ]
  },
  {
   "cell_type": "code",
   "execution_count": 105,
   "metadata": {},
   "outputs": [
    {
     "name": "stdout",
     "output_type": "stream",
     "text": [
      "Up:  1507\n",
      "Dn:  555\n",
      "Up:  286\n",
      "Dn:  473\n",
      "Up:  2526\n",
      "Dn:  1068\n",
      "Up:  300\n",
      "Dn:  2132\n",
      "Up:  510\n",
      "Dn:  578\n",
      "Up:  3277\n",
      "Dn:  927\n"
     ]
    }
   ],
   "source": [
    "AirwayTRM_vs_LungIntersitiumTRM_up, AirwayTRM_vs_LungIntersitiumTRM_dn = sig_list(AirwayTRM_vs_LungIntersitiumTRM, padjCutoff=1, pvalCutoff=0.05, fc=1)\n",
    "AirwayTRM_vs_LungVasculatureTRM_up, AirwayTRM_vs_LungVasculatureTRM_dn = sig_list(AirwayTRM_vs_LungVasculatureTRM, padjCutoff=1, pvalCutoff=0.05, fc=1)\n",
    "AirwayTRM_vs_SpleenTCM_up, AirwayTRM_vs_SpleenTCM_dn = sig_list(AirwayTRM_vs_SpleenTCM, padjCutoff=1, pvalCutoff=0.05, fc=1)\n",
    "LungIntersitiumTRM_vs_LungVasculatureTRM_up, LungIntersitiumTRM_vs_LungVasculatureTRM_dn = sig_list(LungIntersitiumTRM_vs_LungVasculatureTRM, padjCutoff=1, pvalCutoff=0.05, fc=1)\n",
    "LungIntersitiumTRM_vs_SpleenTCM_up, LungIntersitiumTRM_vs_SpleenTCM_dn = sig_list(LungIntersitiumTRM_vs_SpleenTCM, padjCutoff=1, pvalCutoff=0.05, fc=1)\n",
    "LungVasculatureTRM_vs_SpleenTCM_up, LungVasculatureTRM_vs_SpleenTCM_dn = sig_list(LungVasculatureTRM_vs_SpleenTCM, padjCutoff=1, pvalCutoff=0.05, fc=1)\n",
    "\n",
    "AirwarTRM_sig_2 = list(set(AirwayTRM_vs_LungIntersitiumTRM_up).\n",
    "                       intersection(AirwayTRM_vs_LungVasculatureTRM_up).\n",
    "                       intersection(AirwayTRM_vs_SpleenTCM_up))"
   ]
  },
  {
   "cell_type": "code",
   "execution_count": null,
   "metadata": {},
   "outputs": [],
   "source": []
  }
 ],
 "metadata": {
  "kernelspec": {
   "display_name": "Python 3",
   "language": "python",
   "name": "python3"
  },
  "language_info": {
   "codemirror_mode": {
    "name": "ipython",
    "version": 3
   },
   "file_extension": ".py",
   "mimetype": "text/x-python",
   "name": "python",
   "nbconvert_exporter": "python",
   "pygments_lexer": "ipython3",
   "version": "3.6.8"
  }
 },
 "nbformat": 4,
 "nbformat_minor": 4
}
