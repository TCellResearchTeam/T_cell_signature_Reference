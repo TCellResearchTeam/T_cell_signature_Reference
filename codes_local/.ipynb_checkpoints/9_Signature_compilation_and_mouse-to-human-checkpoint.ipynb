{
 "cells": [
  {
   "cell_type": "code",
   "execution_count": 1,
   "metadata": {},
   "outputs": [],
   "source": [
    "import pandas as pd\n",
    "import os\n",
    "import glob\n",
    "import numpy as np"
   ]
  },
  {
   "cell_type": "code",
   "execution_count": 2,
   "metadata": {},
   "outputs": [],
   "source": [
    "code_dir = os.getcwd()\n",
    "base_dir = code_dir.replace(\"/z_References/codes_local\", \"\")"
   ]
  },
  {
   "cell_type": "code",
   "execution_count": 3,
   "metadata": {},
   "outputs": [],
   "source": [
    "def mouse_to_human(inList, reverse=False):\n",
    "    inList = [str(x).upper() for x in inList]\n",
    "    \n",
    "    mmhs_ref = base_dir + \"/z_References/Human_to_Mouse_geneNames.csv\"\n",
    "    mmhs_df = pd.read_csv(mmhs_ref)\n",
    "    \n",
    "    \n",
    "    if not reverse:\n",
    "        old_names = mmhs_df['mouse_geneName'].values.tolist()\n",
    "        new_names = mmhs_df['human_geneName'].values.tolist()\n",
    "    else:\n",
    "        old_names = mmhs_df['human_geneName'].values.tolist()\n",
    "        new_names = mmhs_df['mouse_geneName'].values.tolist()\n",
    "    old_names = [ str(x).upper() for x in old_names]\n",
    "    \n",
    "    outList = []\n",
    "    for i in inList:\n",
    "        if i in old_names:\n",
    "            idx = old_names.index(i)\n",
    "            outList.append(new_names[idx])\n",
    "        else:\n",
    "            outList.append(\"\")\n",
    "    return(outList)"
   ]
  },
  {
   "cell_type": "markdown",
   "metadata": {},
   "source": [
    "## 0. Convert mouse references to human"
   ]
  },
  {
   "cell_type": "code",
   "execution_count": 3,
   "metadata": {},
   "outputs": [],
   "source": [
    "input_dir = '/Volumes/Huitian/Projects/SARS2_Sc/z_References/9_Formatted_csv'\n",
    "\n",
    "mouse_sig_files = glob.glob(\"%s/*/*mouse.csv\"%input_dir)\n",
    "for i in mouse_sig_files:\n",
    "    i_human = i.replace(\"_mouse.csv\", \".csv\")\n",
    "    i_df = pd.read_csv(i)\n",
    "    i_df['gene_symbol'] = mouse_to_human(i_df['gene_symbol'].values.tolist())\n",
    "    i_df = i_df[i_df['gene_symbol'] != '']\n",
    "    i_df.to_csv(i_human, index=False)"
   ]
  },
  {
   "cell_type": "markdown",
   "metadata": {},
   "source": [
    "## 1. Summarize all references "
   ]
  },
  {
   "cell_type": "code",
   "execution_count": 4,
   "metadata": {},
   "outputs": [],
   "source": [
    "wk_dir = base_dir + \"/z_References/9_Formatted_csv\"\n",
    "os.chdir(wk_dir)\n",
    "\n",
    "input_dir = base_dir + '/z_References/9_Formatted_csv'\n",
    "\n",
    "all_sig_files = glob.glob(\"%s/*/*signatures.csv\"%input_dir)\n",
    "all_sig_df = pd.DataFrame()\n",
    "\n",
    "for i in all_sig_files:\n",
    "    i_basename = i.split(\"/\")[-1].replace(\"_signatures.csv\", \"\")\n",
    "    i_df = pd.read_csv(i)[['gs_name', 'gene_symbol']]\n",
    "    i_df['gs_name'] = [i_basename + \"---\" + x for x in i_df['gs_name'].values]\n",
    "    all_sig_df = all_sig_df.append(i_df)\n",
    "\n",
    "all_sig_df['gs_name'] = [x.replace(\" \", \"_\").replace(\"/\",\"-\").replace(\"ï\", \"i\") for x in all_sig_df['gs_name'].values]\n",
    "all_sig_df_sum = all_sig_df.groupby('gs_name').count()\n",
    "all_sig_df_sum.columns = ['gene_number']"
   ]
  },
  {
   "cell_type": "code",
   "execution_count": 8,
   "metadata": {},
   "outputs": [],
   "source": [
    "all_sig_df.to_csv(\"all_human_T_cell_signatures.csv\", index=False)\n",
    "all_sig_df_sum.to_csv(\"all_human_T_cell_gs_signatures_summary.csv\")"
   ]
  },
  {
   "cell_type": "markdown",
   "metadata": {},
   "source": [
    "## 2. Create subset references"
   ]
  },
  {
   "cell_type": "code",
   "execution_count": 6,
   "metadata": {},
   "outputs": [],
   "source": [
    "wk_dir = base_dir + \"/z_References/9_Formatted_csv\"\n",
    "os.chdir(wk_dir)\n",
    "\n",
    "all_sig_df = pd.read_csv(\"all_human_T_cell_signatures.csv\")\n",
    "gs_anno = pd.read_csv('all_human_T_cell_gs_signatures_summary_annotated.csv')"
   ]
  },
  {
   "cell_type": "code",
   "execution_count": 7,
   "metadata": {},
   "outputs": [],
   "source": [
    "gs_anno_use = gs_anno[gs_anno['use'] != 'n']\n",
    "all_sig_df_use = all_sig_df[[True if x in gs_anno_use['gs_name'].values else False for x in all_sig_df['gs_name'].values]]"
   ]
  },
  {
   "cell_type": "code",
   "execution_count": 8,
   "metadata": {},
   "outputs": [],
   "source": [
    "gs_anno_use_types = np.unique(gs_anno_use['type'])"
   ]
  },
  {
   "cell_type": "code",
   "execution_count": 9,
   "metadata": {},
   "outputs": [],
   "source": [
    "for gs_type in gs_anno_use_types:\n",
    "    gs_type_names = gs_anno_use[gs_anno_use['type'] == gs_type]['gs_name'].values\n",
    "    all_sig_df_gs_type = all_sig_df_use[[True if x in gs_type_names else False for x in all_sig_df_use['gs_name'].values]]\n",
    "    all_sig_df_gs_type.to_csv(\"%s_hs_sigs.csv\"%gs_type, index=False)"
   ]
  },
  {
   "cell_type": "code",
   "execution_count": null,
   "metadata": {},
   "outputs": [],
   "source": []
  }
 ],
 "metadata": {
  "kernelspec": {
   "display_name": "Python 3",
   "language": "python",
   "name": "python3"
  },
  "language_info": {
   "codemirror_mode": {
    "name": "ipython",
    "version": 3
   },
   "file_extension": ".py",
   "mimetype": "text/x-python",
   "name": "python",
   "nbconvert_exporter": "python",
   "pygments_lexer": "ipython3",
   "version": "3.8.3"
  }
 },
 "nbformat": 4,
 "nbformat_minor": 4
}
