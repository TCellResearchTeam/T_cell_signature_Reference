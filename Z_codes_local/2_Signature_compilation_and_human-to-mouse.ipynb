{
 "cells": [
  {
   "cell_type": "code",
   "execution_count": 1,
   "metadata": {},
   "outputs": [],
   "source": [
    "import pandas as pd\n",
    "import os\n",
    "import glob\n",
    "import numpy as np"
   ]
  },
  {
   "cell_type": "code",
   "execution_count": 2,
   "metadata": {},
   "outputs": [],
   "source": [
    "code_dir = os.getcwd()\n",
    "base_dir = code_dir.replace(\"/Z_codes_local\", \"\")"
   ]
  },
  {
   "cell_type": "code",
   "execution_count": 3,
   "metadata": {},
   "outputs": [],
   "source": [
    "def mouse_to_human(inList, reverse=False):\n",
    "    inList = [str(x).upper() for x in inList]\n",
    "    \n",
    "    mmhs_ref = base_dir + \"/Human_to_Mouse_geneNames.csv\"\n",
    "    mmhs_df = pd.read_csv(mmhs_ref)\n",
    "    \n",
    "    \n",
    "    if not reverse:\n",
    "        old_names = mmhs_df['mouse_geneName'].values.tolist()\n",
    "        new_names = mmhs_df['human_geneName'].values.tolist()\n",
    "    else:\n",
    "        old_names = mmhs_df['human_geneName'].values.tolist()\n",
    "        new_names = mmhs_df['mouse_geneName'].values.tolist()\n",
    "    old_names = [ str(x).upper() for x in old_names]\n",
    "    new_names = [ str(x).upper() for x in new_names]\n",
    "    \n",
    "    outList = []\n",
    "    for i in inList:\n",
    "        if i in old_names:\n",
    "            idx = old_names.index(i)\n",
    "            outList.append(new_names[idx])\n",
    "        else:\n",
    "            outList.append(\"\")\n",
    "    if reverse:\n",
    "        outList = [x.title() for x in outList]\n",
    "        return(outList)\n",
    "    else:\n",
    "        return(outList)"
   ]
  },
  {
   "cell_type": "markdown",
   "metadata": {},
   "source": [
    "## 0. Convert mouse references to human"
   ]
  },
  {
   "cell_type": "markdown",
   "metadata": {},
   "source": [
    "*Remove space in gene names for one file*\n",
    "Choi_2015 = \"/media/pipkin/ROCKET-PRO/T_cell_signature_Reference/X_Formatted_csv/CD4/2015_NAT_IMMUNOL_Choi_signatures.csv\"\n",
    "Choi_2015_df = pd.read_csv(Choi_2015)\n",
    "Choi_2015_df[\"gene_symbol\"] = [x.replace(\" \", \"\") for x in Choi_2015_df[\"gene_symbol\"].tolist()]\n",
    "Choi_2015_df.to_csv(Choi_2015, index=False)"
   ]
  },
  {
   "cell_type": "markdown",
   "metadata": {},
   "source": [
    "*Human to mouse*"
   ]
  },
  {
   "cell_type": "code",
   "execution_count": 101,
   "metadata": {},
   "outputs": [
    {
     "name": "stdout",
     "output_type": "stream",
     "text": [
      "/media/pipkin/ROCKET-PRO/T_cell_signature_Reference/X_Formatted_csv/CD4/2015_NAT_IMMUNOL_Choi_signatures.csv\n"
     ]
    }
   ],
   "source": [
    "input_dir = base_dir + '/X_Formatted_csv/*'\n",
    "output_dir = base_dir + '/X_GeneSignatures_mm'\n",
    "\n",
    "sig_files = glob.glob(\"%s/*signatures.csv\"%input_dir)\n",
    "for i in sig_files:\n",
    "    if not os.path.exists(i.replace(\".csv\", \"_mouse.csv\")):\n",
    "        print(i)\n",
    "        i_mouse = i.replace(\".csv\", \"_mouse.csv\")\n",
    "        i_df = pd.read_csv(i)\n",
    "        i_df['gene_symbol'] = mouse_to_human(i_df['gene_symbol'].values.tolist(), reverse=True)\n",
    "        i_df = i_df[i_df['gene_symbol'] != '']\n",
    "        i_df.to_csv(i_mouse, index=False)        "
   ]
  },
  {
   "cell_type": "markdown",
   "metadata": {},
   "source": [
    "## 1. Summarize all references "
   ]
  },
  {
   "cell_type": "code",
   "execution_count": 107,
   "metadata": {},
   "outputs": [],
   "source": [
    "wk_dir = base_dir + \"/X_GeneSignatures_mm\"\n",
    "os.chdir(wk_dir)\n",
    "\n",
    "input_dir = base_dir + '/X_Formatted_csv'\n",
    "\n",
    "all_sig_files = glob.glob(\"%s/*/*signatures_mouse.csv\"%input_dir)\n",
    "all_sig_df = pd.DataFrame()\n",
    "\n",
    "for i in all_sig_files:\n",
    "    i_basename = i.split(\"/\")[-1].replace(\"_signatures_mouse.csv\", \"\")\n",
    "    i_df = pd.read_csv(i)[['gs_name', 'gene_symbol']]\n",
    "    i_df['gs_name'] = [i_basename + \"---\" + x for x in i_df['gs_name'].values]\n",
    "    all_sig_df = all_sig_df.append(i_df)\n",
    "\n",
    "all_sig_df['gs_name'] = [x.replace(\" \", \"_\").replace(\"/\",\"-\").replace(\"ï\", \"i\") for x in all_sig_df['gs_name'].values]\n",
    "all_sig_df_sum = all_sig_df.groupby('gs_name').count()\n",
    "all_sig_df_sum.columns = ['gene_number']"
   ]
  },
  {
   "cell_type": "code",
   "execution_count": 108,
   "metadata": {},
   "outputs": [],
   "source": [
    "all_sig_df.to_csv(\"all_mouse_T_cell_signatures.csv\", index=False)\n",
    "all_sig_df_sum.to_csv(\"all_mouse_T_cell_gs_signatures_summary.csv\")"
   ]
  },
  {
   "cell_type": "markdown",
   "metadata": {},
   "source": [
    "*Update annotated file*"
   ]
  },
  {
   "cell_type": "code",
   "execution_count": 109,
   "metadata": {},
   "outputs": [],
   "source": [
    "from datetime import datetime\n",
    "today_date = datetime.today().strftime('%Y%m%d')"
   ]
  },
  {
   "cell_type": "code",
   "execution_count": 110,
   "metadata": {},
   "outputs": [
    {
     "name": "stdout",
     "output_type": "stream",
     "text": [
      "Last update: 20200928\n",
      "Today: 20200929\n"
     ]
    }
   ],
   "source": [
    "anno_file_dir = base_dir + '/Y_annotated'\n",
    "anno_files = glob.glob(\"%s/plotuse_gs*.csv\"%anno_file_dir)\n",
    "anno_files.sort()\n",
    "\n",
    "old_anno_file = anno_files[-1]\n",
    "old_date = old_anno_file.split(\"/\")[-1].replace(\".csv\", \"\").replace(\"plotuse_gs_\", \"\").replace(\"_anno\",\"\")\n",
    "\n",
    "#--- If update the file if last update is not today\n",
    "if old_date != today_date:\n",
    "    #--- Use the annotated file if it is available\n",
    "    if  os.path.exists(old_anno_file.replace(\"plotuse\", \"anno_plotuse\")):\n",
    "        old_anno_df = pd.read_csv(old_anno_file.replace(\"plotuse\", \"anno_plotuse\"))\n",
    "    else:\n",
    "        old_anno_df = pd.read_csv(old_anno_file)\n",
    "        \n",
    "    print(\"Last update: %s\"%old_date)\n",
    "    print(\"Today: %s\"%today_date)\n",
    "    new_gs = list(set(all_sig_df_sum.index) - set(old_anno_df['gs_name']))\n",
    "    \n",
    "    #--- If there are actually new gene signatures, update the file\n",
    "    if len(new_gs) > 0:\n",
    "        print(\"Add %s new signatures\"%str(len(new_gs)))\n",
    "        add_anno_df = pd.DataFrame({\"gs_name\": new_gs, \"type\": [\"\" for x in new_gs],\n",
    "                                    \"use\": [\"\" for x in new_gs], \"plot_use\": [\"\" for x in new_gs],\n",
    "                                    \"abbr\": [\"\" for x in new_gs], \"order\": [\"\" for x in new_gs]})\n",
    "        new_anno_df = old_anno_df.append(add_anno_df)\n",
    "\n",
    "        new_anno_file = old_anno_file.replace(old_date, today_date)\n",
    "        new_anno_df.to_csv(new_anno_file, index=False)\n",
    "else:\n",
    "    print(\"Up to date\")"
   ]
  },
  {
   "cell_type": "markdown",
   "metadata": {},
   "source": [
    "## 2. Create subset references"
   ]
  },
  {
   "cell_type": "markdown",
   "metadata": {},
   "source": [
    "*Select most up-to-date annotation file*"
   ]
  },
  {
   "cell_type": "code",
   "execution_count": 118,
   "metadata": {},
   "outputs": [],
   "source": [
    "anno_file_dir = base_dir + '/Y_annotated'\n",
    "anno_files = glob.glob(\"%s/plotuse_gs*.csv\"%anno_file_dir)\n",
    "anno_files.sort()\n",
    "\n",
    "old_anno_file = anno_files[-1]\n",
    "old_date = old_anno_file.split(\"/\")[-1].replace(\".csv\", \"\").replace(\"plotuse_gs_\", \"\").replace(\"_anno\",\"\")\n",
    "\n",
    "#--- Use the annotated file if it is available\n",
    "if  os.path.exists(old_anno_file.replace(\"plotuse\", \"anno_plotuse\")):\n",
    "    old_anno_df = pd.read_csv(old_anno_file.replace(\"plotuse\", \"anno_plotuse\"))\n",
    "else:\n",
    "    old_anno_df = pd.read_csv(old_anno_file)"
   ]
  },
  {
   "cell_type": "code",
   "execution_count": 119,
   "metadata": {},
   "outputs": [],
   "source": [
    "wk_dir = base_dir + \"/X_GeneSignatures_mm\"\n",
    "os.chdir(wk_dir)\n",
    "\n",
    "all_sig_df = pd.read_csv(\"all_mouse_T_cell_signatures.csv\")\n",
    "gs_anno = old_anno_df"
   ]
  },
  {
   "cell_type": "code",
   "execution_count": 120,
   "metadata": {},
   "outputs": [],
   "source": [
    "gs_anno_use = gs_anno[gs_anno['use'] != 'n']\n",
    "all_sig_df_use = all_sig_df[[True if x in gs_anno_use['gs_name'].values else False for x in all_sig_df['gs_name'].values]]\n",
    "\n",
    "gs_anno_use_types = np.unique(gs_anno_use['type'])"
   ]
  },
  {
   "cell_type": "code",
   "execution_count": 121,
   "metadata": {},
   "outputs": [],
   "source": []
  },
  {
   "cell_type": "code",
   "execution_count": 122,
   "metadata": {},
   "outputs": [],
   "source": []
  },
  {
   "cell_type": "code",
   "execution_count": 123,
   "metadata": {},
   "outputs": [],
   "source": [
    "hs_sum_df = pd.read_csv('/media/pipkin/ROCKET-PRO/T_cell_signature_Reference/X_GeneSignatures_hs/all_human_T_cell_gs_signatures_summary.csv')\n",
    "mm_sum_df = pd.read_csv('/media/pipkin/ROCKET-PRO/T_cell_signature_Reference/X_GeneSignatures_mm/all_mouse_T_cell_gs_signatures_summary.csv')"
   ]
  }
 ],
 "metadata": {
  "kernelspec": {
   "display_name": "Python 3",
   "language": "python",
   "name": "python3"
  },
  "language_info": {
   "codemirror_mode": {
    "name": "ipython",
    "version": 3
   },
   "file_extension": ".py",
   "mimetype": "text/x-python",
   "name": "python",
   "nbconvert_exporter": "python",
   "pygments_lexer": "ipython3",
   "version": "3.8.3"
  }
 },
 "nbformat": 4,
 "nbformat_minor": 4
}
